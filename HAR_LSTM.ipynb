{
 "cells": [
  {
   "cell_type": "code",
   "execution_count": 1,
   "metadata": {},
   "outputs": [],
   "source": [
    "# Importing Libraries"
   ]
  },
  {
   "cell_type": "code",
   "execution_count": 2,
   "metadata": {},
   "outputs": [],
   "source": [
    "import pandas as pd\n",
    "import numpy as np"
   ]
  },
  {
   "cell_type": "code",
   "execution_count": 3,
   "metadata": {},
   "outputs": [],
   "source": [
    "# Activities are the class labels\n",
    "# It is a 6 class classification\n",
    "ACTIVITIES = {\n",
    "    0: 'WALKING',\n",
    "    1: 'WALKING_UPSTAIRS',\n",
    "    2: 'WALKING_DOWNSTAIRS',\n",
    "    3: 'SITTING',\n",
    "    4: 'STANDING',\n",
    "    5: 'LAYING',\n",
    "}\n",
    "\n",
    "# Utility function to print the confusion matrix\n",
    "def confusion_matrix(Y_true, Y_pred):\n",
    "    Y_true = pd.Series([ACTIVITIES[y] for y in np.argmax(Y_true, axis=1)])\n",
    "    Y_pred = pd.Series([ACTIVITIES[y] for y in np.argmax(Y_pred, axis=1)])\n",
    "\n",
    "    return pd.crosstab(Y_true, Y_pred, rownames=['True'], colnames=['Pred'])"
   ]
  },
  {
   "cell_type": "markdown",
   "metadata": {},
   "source": [
    "### Data"
   ]
  },
  {
   "cell_type": "code",
   "execution_count": 4,
   "metadata": {},
   "outputs": [],
   "source": [
    "# Data directory\n",
    "DATADIR = 'UCI_HAR_Dataset'"
   ]
  },
  {
   "cell_type": "code",
   "execution_count": 5,
   "metadata": {},
   "outputs": [],
   "source": [
    "# Raw data signals\n",
    "# Signals are from Accelerometer and Gyroscope\n",
    "# The signals are in x,y,z directions\n",
    "# Sensor signals are filtered to have only body acceleration\n",
    "# excluding the acceleration due to gravity\n",
    "# Triaxial acceleration from the accelerometer is total acceleration\n",
    "SIGNALS = [\n",
    "    \"body_acc_x\",\n",
    "    \"body_acc_y\",\n",
    "    \"body_acc_z\",\n",
    "    \"body_gyro_x\",\n",
    "    \"body_gyro_y\",\n",
    "    \"body_gyro_z\",\n",
    "    \"total_acc_x\",\n",
    "    \"total_acc_y\",\n",
    "    \"total_acc_z\"\n",
    "]"
   ]
  },
  {
   "cell_type": "code",
   "execution_count": 6,
   "metadata": {},
   "outputs": [],
   "source": [
    "# Utility function to read the data from csv file\n",
    "def _read_csv(filename):\n",
    "    return pd.read_csv(filename, delim_whitespace=True, header=None)\n",
    "\n",
    "# Utility function to load the load\n",
    "def load_signals(subset):\n",
    "    signals_data = []\n",
    "\n",
    "    for signal in SIGNALS:\n",
    "        filename = f'UCI_HAR_Dataset/{subset}/Inertial Signals/{signal}_{subset}.txt'\n",
    "        signals_data.append(\n",
    "            _read_csv(filename).as_matrix()\n",
    "        ) \n",
    "\n",
    "    # Transpose is used to change the dimensionality of the output,\n",
    "    # aggregating the signals by combination of sample/timestep.\n",
    "    # Resultant shape is (7352 train/2947 test samples, 128 timesteps, 9 signals)\n",
    "    return np.transpose(signals_data, (1, 2, 0))"
   ]
  },
  {
   "cell_type": "code",
   "execution_count": 7,
   "metadata": {},
   "outputs": [],
   "source": [
    "\n",
    "def load_y(subset):\n",
    "    \"\"\"\n",
    "    The objective that we are trying to predict is a integer, from 1 to 6,\n",
    "    that represents a human activity. We return a binary representation of \n",
    "    every sample objective as a 6 bits vector using One Hot Encoding\n",
    "    (https://pandas.pydata.org/pandas-docs/stable/generated/pandas.get_dummies.html)\n",
    "    \"\"\"\n",
    "    filename = f'UCI_HAR_Dataset/{subset}/y_{subset}.txt'\n",
    "    y = _read_csv(filename)[0]\n",
    "\n",
    "    return pd.get_dummies(y).as_matrix()"
   ]
  },
  {
   "cell_type": "code",
   "execution_count": 8,
   "metadata": {},
   "outputs": [],
   "source": [
    "def load_data():\n",
    "    \"\"\"\n",
    "    Obtain the dataset from multiple files.\n",
    "    Returns: X_train, X_test, y_train, y_test\n",
    "    \"\"\"\n",
    "    X_train, X_test = load_signals('train'), load_signals('test')\n",
    "    y_train, y_test = load_y('train'), load_y('test')\n",
    "\n",
    "    return X_train, X_test, y_train, y_test"
   ]
  },
  {
   "cell_type": "code",
   "execution_count": 9,
   "metadata": {},
   "outputs": [
    {
     "name": "stderr",
     "output_type": "stream",
     "text": [
      "/Users/bhawesh/anaconda3/lib/python3.7/site-packages/tensorflow/python/framework/dtypes.py:526: FutureWarning: Passing (type, 1) or '1type' as a synonym of type is deprecated; in a future version of numpy, it will be understood as (type, (1,)) / '(1,)type'.\n",
      "  _np_qint8 = np.dtype([(\"qint8\", np.int8, 1)])\n",
      "/Users/bhawesh/anaconda3/lib/python3.7/site-packages/tensorflow/python/framework/dtypes.py:527: FutureWarning: Passing (type, 1) or '1type' as a synonym of type is deprecated; in a future version of numpy, it will be understood as (type, (1,)) / '(1,)type'.\n",
      "  _np_quint8 = np.dtype([(\"quint8\", np.uint8, 1)])\n",
      "/Users/bhawesh/anaconda3/lib/python3.7/site-packages/tensorflow/python/framework/dtypes.py:528: FutureWarning: Passing (type, 1) or '1type' as a synonym of type is deprecated; in a future version of numpy, it will be understood as (type, (1,)) / '(1,)type'.\n",
      "  _np_qint16 = np.dtype([(\"qint16\", np.int16, 1)])\n",
      "/Users/bhawesh/anaconda3/lib/python3.7/site-packages/tensorflow/python/framework/dtypes.py:529: FutureWarning: Passing (type, 1) or '1type' as a synonym of type is deprecated; in a future version of numpy, it will be understood as (type, (1,)) / '(1,)type'.\n",
      "  _np_quint16 = np.dtype([(\"quint16\", np.uint16, 1)])\n",
      "/Users/bhawesh/anaconda3/lib/python3.7/site-packages/tensorflow/python/framework/dtypes.py:530: FutureWarning: Passing (type, 1) or '1type' as a synonym of type is deprecated; in a future version of numpy, it will be understood as (type, (1,)) / '(1,)type'.\n",
      "  _np_qint32 = np.dtype([(\"qint32\", np.int32, 1)])\n",
      "/Users/bhawesh/anaconda3/lib/python3.7/site-packages/tensorflow/python/framework/dtypes.py:535: FutureWarning: Passing (type, 1) or '1type' as a synonym of type is deprecated; in a future version of numpy, it will be understood as (type, (1,)) / '(1,)type'.\n",
      "  np_resource = np.dtype([(\"resource\", np.ubyte, 1)])\n"
     ]
    }
   ],
   "source": [
    "# Importing tensorflow\n",
    "np.random.seed(42)\n",
    "import tensorflow as tf\n",
    "tf.set_random_seed(42)"
   ]
  },
  {
   "cell_type": "code",
   "execution_count": 10,
   "metadata": {},
   "outputs": [],
   "source": [
    "# Configuring a session\n",
    "session_conf = tf.ConfigProto(\n",
    "    intra_op_parallelism_threads=1,\n",
    "    inter_op_parallelism_threads=1\n",
    ")"
   ]
  },
  {
   "cell_type": "code",
   "execution_count": 11,
   "metadata": {},
   "outputs": [],
   "source": [
    "# Import Keras\n",
    "import os\n",
    "os.environ['KMP_DUPLICATE_LIB_OK']='True'\n",
    "from tensorflow.keras import backend as K\n",
    "sess = tf.Session(graph=tf.get_default_graph(), config=session_conf)\n",
    "K.set_session(sess)"
   ]
  },
  {
   "cell_type": "code",
   "execution_count": 12,
   "metadata": {},
   "outputs": [
    {
     "name": "stderr",
     "output_type": "stream",
     "text": [
      "Using TensorFlow backend.\n"
     ]
    }
   ],
   "source": [
    "# Importing libraries\n",
    "from keras.models import Sequential\n",
    "from keras.layers import LSTM\n",
    "from keras.layers.core import Dense, Dropout"
   ]
  },
  {
   "cell_type": "code",
   "execution_count": 13,
   "metadata": {},
   "outputs": [],
   "source": [
    "# Initializing parameters\n",
    "epochs = 30\n",
    "batch_size = 16\n",
    "n_hidden = 64"
   ]
  },
  {
   "cell_type": "code",
   "execution_count": 14,
   "metadata": {},
   "outputs": [],
   "source": [
    "# Utility function to count the number of classes\n",
    "def _count_classes(y):\n",
    "    return len(set([tuple(category) for category in y]))"
   ]
  },
  {
   "cell_type": "code",
   "execution_count": 16,
   "metadata": {},
   "outputs": [
    {
     "name": "stderr",
     "output_type": "stream",
     "text": [
      "/Users/bhawesh/anaconda3/lib/python3.7/site-packages/ipykernel_launcher.py:12: FutureWarning: Method .as_matrix will be removed in a future version. Use .values instead.\n",
      "  if sys.path[0] == '':\n",
      "/Users/bhawesh/anaconda3/lib/python3.7/site-packages/ipykernel_launcher.py:11: FutureWarning: Method .as_matrix will be removed in a future version. Use .values instead.\n",
      "  # This is added back by InteractiveShellApp.init_path()\n"
     ]
    }
   ],
   "source": [
    "# Loading the train and test data\n",
    "X_train, X_test, Y_train, Y_test = load_data()"
   ]
  },
  {
   "cell_type": "code",
   "execution_count": 17,
   "metadata": {},
   "outputs": [
    {
     "name": "stdout",
     "output_type": "stream",
     "text": [
      "128\n",
      "9\n",
      "7352\n"
     ]
    }
   ],
   "source": [
    "timesteps = len(X_train[0])\n",
    "input_dim = len(X_train[0][0])\n",
    "n_classes = _count_classes(Y_train)\n",
    "\n",
    "print(timesteps)\n",
    "print(input_dim)\n",
    "print(len(X_train))"
   ]
  },
  {
   "cell_type": "code",
   "execution_count": 18,
   "metadata": {},
   "outputs": [
    {
     "data": {
      "text/plain": [
       "(7352, 128, 9)"
      ]
     },
     "execution_count": 18,
     "metadata": {},
     "output_type": "execute_result"
    }
   ],
   "source": [
    "X_train.shape"
   ]
  },
  {
   "cell_type": "markdown",
   "metadata": {},
   "source": [
    "- Defining the Architecture of LSTM"
   ]
  },
  {
   "cell_type": "code",
   "execution_count": 19,
   "metadata": {},
   "outputs": [
    {
     "name": "stdout",
     "output_type": "stream",
     "text": [
      "WARNING:tensorflow:From /Users/bhawesh/anaconda3/lib/python3.7/site-packages/tensorflow/python/ops/resource_variable_ops.py:435: colocate_with (from tensorflow.python.framework.ops) is deprecated and will be removed in a future version.\n",
      "Instructions for updating:\n",
      "Colocations handled automatically by placer.\n",
      "Model: \"sequential_1\"\n",
      "_________________________________________________________________\n",
      "Layer (type)                 Output Shape              Param #   \n",
      "=================================================================\n",
      "lstm_1 (LSTM)                (None, 128, 32)           5376      \n",
      "_________________________________________________________________\n",
      "dropout_1 (Dropout)          (None, 128, 32)           0         \n",
      "_________________________________________________________________\n",
      "lstm_2 (LSTM)                (None, 28)                6832      \n",
      "_________________________________________________________________\n",
      "dropout_2 (Dropout)          (None, 28)                0         \n",
      "_________________________________________________________________\n",
      "dense_1 (Dense)              (None, 6)                 174       \n",
      "=================================================================\n",
      "Total params: 12,382\n",
      "Trainable params: 12,382\n",
      "Non-trainable params: 0\n",
      "_________________________________________________________________\n"
     ]
    }
   ],
   "source": [
    "# Initiliazing the sequential model\n",
    "model = Sequential()\n",
    "# Configuring the parameters\n",
    "model.add(LSTM(32,return_sequences=True,input_shape=(timesteps, input_dim)))\n",
    "# Adding a dropout layer\n",
    "model.add(Dropout(0.5))\n",
    "\n",
    "model.add(LSTM(28,input_shape=(timesteps, input_dim)))\n",
    "# Adding a dropout layer\n",
    "model.add(Dropout(0.6))\n",
    "# Adding a dense output layer with sigmoid activation\n",
    "model.add(Dense(n_classes, activation='sigmoid'))\n",
    "model.summary()"
   ]
  },
  {
   "cell_type": "code",
   "execution_count": 73,
   "metadata": {},
   "outputs": [],
   "source": [
    "# Compiling the model\n",
    "model.compile(loss='categorical_crossentropy',\n",
    "              optimizer='rmsprop',\n",
    "              metrics=['accuracy'])"
   ]
  },
  {
   "cell_type": "code",
   "execution_count": 74,
   "metadata": {},
   "outputs": [
    {
     "name": "stdout",
     "output_type": "stream",
     "text": [
      "Train on 7352 samples, validate on 2947 samples\n",
      "Epoch 1/30\n",
      "7352/7352 [==============================] - 258s 35ms/step - loss: 1.3024 - accuracy: 0.4498 - val_loss: 0.9632 - val_accuracy: 0.6220\n",
      "Epoch 2/30\n",
      "7352/7352 [==============================] - 236s 32ms/step - loss: 0.8855 - accuracy: 0.5652 - val_loss: 0.8105 - val_accuracy: 0.6502\n",
      "Epoch 3/30\n",
      "7352/7352 [==============================] - 235s 32ms/step - loss: 0.7803 - accuracy: 0.6270 - val_loss: 0.7567 - val_accuracy: 0.6423\n",
      "Epoch 4/30\n",
      "7352/7352 [==============================] - 235s 32ms/step - loss: 0.7245 - accuracy: 0.6662 - val_loss: 0.6691 - val_accuracy: 0.7129\n",
      "Epoch 5/30\n",
      "7352/7352 [==============================] - 1078s 147ms/step - loss: 0.6872 - accuracy: 0.6834 - val_loss: 0.6223 - val_accuracy: 0.7258\n",
      "Epoch 6/30\n",
      "7352/7352 [==============================] - 265s 36ms/step - loss: 0.6280 - accuracy: 0.7338 - val_loss: 0.6051 - val_accuracy: 0.7489\n",
      "Epoch 7/30\n",
      "7352/7352 [==============================] - 261s 36ms/step - loss: 0.5281 - accuracy: 0.7729 - val_loss: 0.7489 - val_accuracy: 0.7248\n",
      "Epoch 8/30\n",
      "7352/7352 [==============================] - 247s 34ms/step - loss: 0.4950 - accuracy: 0.7836 - val_loss: 0.4933 - val_accuracy: 0.7669\n",
      "Epoch 9/30\n",
      "7352/7352 [==============================] - 240s 33ms/step - loss: 0.4596 - accuracy: 0.7954 - val_loss: 0.4845 - val_accuracy: 0.7930\n",
      "Epoch 10/30\n",
      "7352/7352 [==============================] - 246s 33ms/step - loss: 0.4105 - accuracy: 0.8443 - val_loss: 0.5197 - val_accuracy: 0.8588\n",
      "Epoch 11/30\n",
      "7352/7352 [==============================] - 265s 36ms/step - loss: 0.3510 - accuracy: 0.8872 - val_loss: 0.3937 - val_accuracy: 0.8748\n",
      "Epoch 12/30\n",
      "7352/7352 [==============================] - 262s 36ms/step - loss: 0.3146 - accuracy: 0.9026 - val_loss: 0.3701 - val_accuracy: 0.8989\n",
      "Epoch 13/30\n",
      "7352/7352 [==============================] - 249s 34ms/step - loss: 0.2819 - accuracy: 0.9169 - val_loss: 0.3248 - val_accuracy: 0.8972\n",
      "Epoch 14/30\n",
      "7352/7352 [==============================] - 253s 34ms/step - loss: 0.2587 - accuracy: 0.9274 - val_loss: 0.3103 - val_accuracy: 0.9053\n",
      "Epoch 15/30\n",
      "7352/7352 [==============================] - 267s 36ms/step - loss: 0.2205 - accuracy: 0.9317 - val_loss: 0.3870 - val_accuracy: 0.9030\n",
      "Epoch 16/30\n",
      "7352/7352 [==============================] - 245s 33ms/step - loss: 0.2079 - accuracy: 0.9362 - val_loss: 0.3751 - val_accuracy: 0.9019\n",
      "Epoch 17/30\n",
      "7352/7352 [==============================] - 230s 31ms/step - loss: 0.2133 - accuracy: 0.9369 - val_loss: 0.3343 - val_accuracy: 0.9050\n",
      "Epoch 18/30\n",
      "7352/7352 [==============================] - 230s 31ms/step - loss: 0.1981 - accuracy: 0.9427 - val_loss: 0.3600 - val_accuracy: 0.9006\n",
      "Epoch 19/30\n",
      "7352/7352 [==============================] - 230s 31ms/step - loss: 0.1929 - accuracy: 0.9403 - val_loss: 0.3001 - val_accuracy: 0.9230\n",
      "Epoch 20/30\n",
      "7352/7352 [==============================] - 2031s 276ms/step - loss: 0.1762 - accuracy: 0.9399 - val_loss: 0.3171 - val_accuracy: 0.9131\n",
      "Epoch 21/30\n",
      "7352/7352 [==============================] - 248s 34ms/step - loss: 0.1749 - accuracy: 0.9446 - val_loss: 0.3270 - val_accuracy: 0.9131\n",
      "Epoch 22/30\n",
      "7352/7352 [==============================] - 277s 38ms/step - loss: 0.1693 - accuracy: 0.9418 - val_loss: 0.3348 - val_accuracy: 0.9199\n",
      "Epoch 23/30\n",
      "7352/7352 [==============================] - 303s 41ms/step - loss: 0.1847 - accuracy: 0.9440 - val_loss: 0.3564 - val_accuracy: 0.9148\n",
      "Epoch 24/30\n",
      "7352/7352 [==============================] - 272s 37ms/step - loss: 0.1776 - accuracy: 0.9418 - val_loss: 0.5241 - val_accuracy: 0.8975\n",
      "Epoch 25/30\n",
      "7352/7352 [==============================] - 276s 38ms/step - loss: 0.1682 - accuracy: 0.9441 - val_loss: 0.3894 - val_accuracy: 0.9220\n",
      "Epoch 26/30\n",
      "7352/7352 [==============================] - 266s 36ms/step - loss: 0.1628 - accuracy: 0.9423 - val_loss: 0.3690 - val_accuracy: 0.9230\n",
      "Epoch 27/30\n",
      "7352/7352 [==============================] - 265s 36ms/step - loss: 0.1621 - accuracy: 0.9441 - val_loss: 0.3947 - val_accuracy: 0.9121\n",
      "Epoch 28/30\n",
      "7352/7352 [==============================] - 263s 36ms/step - loss: 0.1665 - accuracy: 0.9433 - val_loss: 0.3694 - val_accuracy: 0.9114\n",
      "Epoch 29/30\n",
      "7352/7352 [==============================] - 269s 37ms/step - loss: 0.1622 - accuracy: 0.9448 - val_loss: 0.3727 - val_accuracy: 0.9182\n",
      "Epoch 30/30\n",
      "7352/7352 [==============================] - 248s 34ms/step - loss: 0.1752 - accuracy: 0.9425 - val_loss: 0.4158 - val_accuracy: 0.9101\n"
     ]
    },
    {
     "data": {
      "text/plain": [
       "<keras.callbacks.callbacks.History at 0x639c9d5c0>"
      ]
     },
     "execution_count": 74,
     "metadata": {},
     "output_type": "execute_result"
    }
   ],
   "source": [
    "# Training the model\n",
    "model.fit(X_train,\n",
    "          Y_train,\n",
    "          batch_size=batch_size,\n",
    "          validation_data=(X_test, Y_test),\n",
    "          epochs=epochs)"
   ]
  },
  {
   "cell_type": "code",
   "execution_count": 75,
   "metadata": {},
   "outputs": [
    {
     "name": "stdout",
     "output_type": "stream",
     "text": [
      "Pred                LAYING  SITTING  STANDING  WALKING  WALKING_DOWNSTAIRS  \\\n",
      "True                                                                         \n",
      "LAYING                 537        0         0        0                   0   \n",
      "SITTING                  4      420        46        0                   0   \n",
      "STANDING                 0      132       400        0                   0   \n",
      "WALKING                  0        0         0      469                  21   \n",
      "WALKING_DOWNSTAIRS       0        0         0       12                 401   \n",
      "WALKING_UPSTAIRS         0        2         1       13                   0   \n",
      "\n",
      "Pred                WALKING_UPSTAIRS  \n",
      "True                                  \n",
      "LAYING                             0  \n",
      "SITTING                           21  \n",
      "STANDING                           0  \n",
      "WALKING                            6  \n",
      "WALKING_DOWNSTAIRS                 7  \n",
      "WALKING_UPSTAIRS                 455  \n"
     ]
    }
   ],
   "source": [
    "# Confusion Matrix\n",
    "print(confusion_matrix(Y_test, model.predict(X_test)))"
   ]
  },
  {
   "cell_type": "code",
   "execution_count": 76,
   "metadata": {},
   "outputs": [
    {
     "name": "stdout",
     "output_type": "stream",
     "text": [
      "2947/2947 [==============================] - 18s 6ms/step\n"
     ]
    }
   ],
   "source": [
    "score = model.evaluate(X_test, Y_test)"
   ]
  },
  {
   "cell_type": "code",
   "execution_count": 77,
   "metadata": {},
   "outputs": [
    {
     "data": {
      "text/plain": [
       "[0.4158135156924696, 0.9100780487060547]"
      ]
     },
     "execution_count": 77,
     "metadata": {},
     "output_type": "execute_result"
    }
   ],
   "source": [
    "score"
   ]
  },
  {
   "cell_type": "markdown",
   "metadata": {},
   "source": [
    "- With a simple 2 layer architecture we got 90.09% accuracy and a loss of 0.30\n",
    "- We can further imporve the performace with Hyperparameter tuning"
   ]
  },
  {
   "cell_type": "markdown",
   "metadata": {},
   "source": [
    "### Assignment"
   ]
  },
  {
   "cell_type": "markdown",
   "metadata": {},
   "source": [
    "### Changing LSTM"
   ]
  },
  {
   "cell_type": "code",
   "execution_count": 116,
   "metadata": {},
   "outputs": [],
   "source": [
    "# Initializing parameters\n",
    "epochs = 30\n",
    "batch_size = 16\n",
    "n_hidden = 32"
   ]
  },
  {
   "cell_type": "code",
   "execution_count": 118,
   "metadata": {},
   "outputs": [
    {
     "name": "stdout",
     "output_type": "stream",
     "text": [
      "Model: \"sequential_9\"\n",
      "_________________________________________________________________\n",
      "Layer (type)                 Output Shape              Param #   \n",
      "=================================================================\n",
      "lstm_9 (LSTM)                (None, 32)                5376      \n",
      "_________________________________________________________________\n",
      "dropout_9 (Dropout)          (None, 32)                0         \n",
      "_________________________________________________________________\n",
      "dense_9 (Dense)              (None, 6)                 198       \n",
      "=================================================================\n",
      "Total params: 5,574\n",
      "Trainable params: 5,574\n",
      "Non-trainable params: 0\n",
      "_________________________________________________________________\n"
     ]
    }
   ],
   "source": [
    "# Initiliazing the sequential model\n",
    "model = Sequential()\n",
    "# Configuring the parameters\n",
    "model.add(LSTM(n_hidden, input_shape=(timesteps, input_dim)))\n",
    "# Adding a dropout layer\n",
    "model.add(Dropout(0.4))\n",
    "# Adding a dense output layer with sigmoid activation\n",
    "model.add(Dense(n_classes, activation='sigmoid'))\n",
    "model.summary()"
   ]
  },
  {
   "cell_type": "code",
   "execution_count": 119,
   "metadata": {},
   "outputs": [],
   "source": [
    "# Compiling the model\n",
    "model.compile(loss='categorical_crossentropy',\n",
    "              optimizer='rmsprop',\n",
    "              metrics=['accuracy'])"
   ]
  },
  {
   "cell_type": "code",
   "execution_count": 120,
   "metadata": {},
   "outputs": [
    {
     "name": "stdout",
     "output_type": "stream",
     "text": [
      "Train on 7352 samples, validate on 2947 samples\n",
      "Epoch 1/30\n",
      "7352/7352 [==============================] - 168s 23ms/step - loss: 1.2421 - accuracy: 0.4939 - val_loss: 1.0321 - val_accuracy: 0.6074\n",
      "Epoch 2/30\n",
      "7352/7352 [==============================] - 196s 27ms/step - loss: 0.8385 - accuracy: 0.6436 - val_loss: 0.8230 - val_accuracy: 0.6308\n",
      "Epoch 3/30\n",
      "7352/7352 [==============================] - 175s 24ms/step - loss: 0.6884 - accuracy: 0.6912 - val_loss: 0.6510 - val_accuracy: 0.7435\n",
      "Epoch 4/30\n",
      "7352/7352 [==============================] - 178s 24ms/step - loss: 0.5859 - accuracy: 0.7564 - val_loss: 0.5855 - val_accuracy: 0.7611\n",
      "Epoch 5/30\n",
      "7352/7352 [==============================] - 149s 20ms/step - loss: 0.4952 - accuracy: 0.7969 - val_loss: 0.5028 - val_accuracy: 0.7967\n",
      "Epoch 6/30\n",
      "7352/7352 [==============================] - 145s 20ms/step - loss: 0.4476 - accuracy: 0.8411 - val_loss: 0.5677 - val_accuracy: 0.7869\n",
      "Epoch 7/30\n",
      "7352/7352 [==============================] - 144s 20ms/step - loss: 0.4050 - accuracy: 0.8637 - val_loss: 0.7944 - val_accuracy: 0.7760\n",
      "Epoch 8/30\n",
      "7352/7352 [==============================] - 145s 20ms/step - loss: 0.3277 - accuracy: 0.8976 - val_loss: 0.5426 - val_accuracy: 0.8208\n",
      "Epoch 9/30\n",
      "7352/7352 [==============================] - 144s 20ms/step - loss: 0.3029 - accuracy: 0.9070 - val_loss: 0.4130 - val_accuracy: 0.8578\n",
      "Epoch 10/30\n",
      "7352/7352 [==============================] - 1738s 236ms/step - loss: 0.2610 - accuracy: 0.9208 - val_loss: 0.4450 - val_accuracy: 0.8571\n",
      "Epoch 11/30\n",
      "7352/7352 [==============================] - 145s 20ms/step - loss: 0.2344 - accuracy: 0.9244 - val_loss: 0.4185 - val_accuracy: 0.8792\n",
      "Epoch 12/30\n",
      "7352/7352 [==============================] - 146s 20ms/step - loss: 0.2109 - accuracy: 0.9305 - val_loss: 0.3942 - val_accuracy: 0.8812\n",
      "Epoch 13/30\n",
      "7352/7352 [==============================] - 147s 20ms/step - loss: 0.2157 - accuracy: 0.9332 - val_loss: 0.5447 - val_accuracy: 0.8609\n",
      "Epoch 14/30\n",
      "7352/7352 [==============================] - 168s 23ms/step - loss: 0.2064 - accuracy: 0.9340 - val_loss: 0.5232 - val_accuracy: 0.8748\n",
      "Epoch 15/30\n",
      "7352/7352 [==============================] - 170s 23ms/step - loss: 0.1824 - accuracy: 0.9389 - val_loss: 0.3321 - val_accuracy: 0.8799\n",
      "Epoch 16/30\n",
      "7352/7352 [==============================] - 184s 25ms/step - loss: 0.1679 - accuracy: 0.9407 - val_loss: 0.4579 - val_accuracy: 0.8663\n",
      "Epoch 17/30\n",
      "7352/7352 [==============================] - 150s 20ms/step - loss: 0.1710 - accuracy: 0.9412 - val_loss: 0.3797 - val_accuracy: 0.9016\n",
      "Epoch 18/30\n",
      "7352/7352 [==============================] - 150s 20ms/step - loss: 0.1726 - accuracy: 0.9437 - val_loss: 0.4645 - val_accuracy: 0.8924\n",
      "Epoch 19/30\n",
      "7352/7352 [==============================] - 161s 22ms/step - loss: 0.1719 - accuracy: 0.9389 - val_loss: 0.4814 - val_accuracy: 0.8860\n",
      "Epoch 20/30\n",
      "7352/7352 [==============================] - 160s 22ms/step - loss: 0.1550 - accuracy: 0.9444 - val_loss: 0.3362 - val_accuracy: 0.8992\n",
      "Epoch 21/30\n",
      "7352/7352 [==============================] - 158s 22ms/step - loss: 0.1674 - accuracy: 0.9430 - val_loss: 0.3746 - val_accuracy: 0.8945\n",
      "Epoch 22/30\n",
      "7352/7352 [==============================] - 156s 21ms/step - loss: 0.1546 - accuracy: 0.9468 - val_loss: 0.4101 - val_accuracy: 0.9016\n",
      "Epoch 23/30\n",
      "7352/7352 [==============================] - 167s 23ms/step - loss: 0.1529 - accuracy: 0.9452 - val_loss: 0.5036 - val_accuracy: 0.8799\n",
      "Epoch 24/30\n",
      "7352/7352 [==============================] - 166s 23ms/step - loss: 0.1416 - accuracy: 0.9475 - val_loss: 0.3752 - val_accuracy: 0.9077\n",
      "Epoch 25/30\n",
      "7352/7352 [==============================] - 182s 25ms/step - loss: 0.1360 - accuracy: 0.9482 - val_loss: 0.3901 - val_accuracy: 0.9091\n",
      "Epoch 26/30\n",
      "7352/7352 [==============================] - 192s 26ms/step - loss: 0.1892 - accuracy: 0.9406 - val_loss: 0.6442 - val_accuracy: 0.8697\n",
      "Epoch 27/30\n",
      "7352/7352 [==============================] - 189s 26ms/step - loss: 0.1508 - accuracy: 0.9493 - val_loss: 0.3408 - val_accuracy: 0.9043\n",
      "Epoch 28/30\n",
      "7352/7352 [==============================] - 170s 23ms/step - loss: 0.1324 - accuracy: 0.9491 - val_loss: 0.4604 - val_accuracy: 0.8904\n",
      "Epoch 29/30\n",
      "7352/7352 [==============================] - 157s 21ms/step - loss: 0.1316 - accuracy: 0.9498 - val_loss: 0.5240 - val_accuracy: 0.8880\n",
      "Epoch 30/30\n",
      "7352/7352 [==============================] - 144s 20ms/step - loss: 0.1471 - accuracy: 0.9474 - val_loss: 0.7513 - val_accuracy: 0.8755\n"
     ]
    },
    {
     "data": {
      "text/plain": [
       "<keras.callbacks.callbacks.History at 0x650f76f98>"
      ]
     },
     "execution_count": 120,
     "metadata": {},
     "output_type": "execute_result"
    }
   ],
   "source": [
    "# Training the model\n",
    "model.fit(X_train,\n",
    "          Y_train,\n",
    "          batch_size=batch_size,\n",
    "          validation_data=(X_test, Y_test),\n",
    "          epochs=epochs)"
   ]
  },
  {
   "cell_type": "code",
   "execution_count": 121,
   "metadata": {},
   "outputs": [
    {
     "name": "stdout",
     "output_type": "stream",
     "text": [
      "Pred                LAYING  SITTING  STANDING  WALKING  WALKING_DOWNSTAIRS  \\\n",
      "True                                                                         \n",
      "LAYING                 513        0        24        0                   0   \n",
      "SITTING                  0      425        64        0                   1   \n",
      "STANDING                 0      117       405        2                   0   \n",
      "WALKING                  0        0         1      386                  49   \n",
      "WALKING_DOWNSTAIRS       0        0         0        0                 420   \n",
      "WALKING_UPSTAIRS         0        4         1        4                  31   \n",
      "\n",
      "Pred                WALKING_UPSTAIRS  \n",
      "True                                  \n",
      "LAYING                             0  \n",
      "SITTING                            1  \n",
      "STANDING                           8  \n",
      "WALKING                           60  \n",
      "WALKING_DOWNSTAIRS                 0  \n",
      "WALKING_UPSTAIRS                 431  \n"
     ]
    }
   ],
   "source": [
    "# Confusion Matrix\n",
    "print(confusion_matrix(Y_test, model.predict(X_test)))"
   ]
  },
  {
   "cell_type": "code",
   "execution_count": 122,
   "metadata": {},
   "outputs": [
    {
     "name": "stdout",
     "output_type": "stream",
     "text": [
      "2947/2947 [==============================] - 11s 4ms/step\n"
     ]
    }
   ],
   "source": [
    "score = model.evaluate(X_test, Y_test)"
   ]
  },
  {
   "cell_type": "code",
   "execution_count": 123,
   "metadata": {},
   "outputs": [
    {
     "data": {
      "text/plain": [
       "[0.751543751711401, 0.8754665851593018]"
      ]
     },
     "execution_count": 123,
     "metadata": {},
     "output_type": "execute_result"
    }
   ],
   "source": [
    "score"
   ]
  },
  {
   "cell_type": "code",
   "execution_count": 124,
   "metadata": {},
   "outputs": [],
   "source": [
    "# Initializing parameters\n",
    "epochs = 30\n",
    "batch_size = 16\n",
    "n_hidden = 64"
   ]
  },
  {
   "cell_type": "code",
   "execution_count": 125,
   "metadata": {},
   "outputs": [
    {
     "name": "stdout",
     "output_type": "stream",
     "text": [
      "Model: \"sequential_10\"\n",
      "_________________________________________________________________\n",
      "Layer (type)                 Output Shape              Param #   \n",
      "=================================================================\n",
      "lstm_10 (LSTM)               (None, 64)                18944     \n",
      "_________________________________________________________________\n",
      "dropout_10 (Dropout)         (None, 64)                0         \n",
      "_________________________________________________________________\n",
      "dense_10 (Dense)             (None, 6)                 390       \n",
      "=================================================================\n",
      "Total params: 19,334\n",
      "Trainable params: 19,334\n",
      "Non-trainable params: 0\n",
      "_________________________________________________________________\n"
     ]
    }
   ],
   "source": [
    "# Initiliazing the sequential model\n",
    "model = Sequential()\n",
    "# Configuring the parameters\n",
    "model.add(LSTM(n_hidden, input_shape=(timesteps, input_dim)))\n",
    "# Adding a dropout layer\n",
    "model.add(Dropout(0.55))\n",
    "# Adding a dense output layer with sigmoid activation\n",
    "model.add(Dense(n_classes, activation='sigmoid'))\n",
    "model.summary()"
   ]
  },
  {
   "cell_type": "code",
   "execution_count": 126,
   "metadata": {},
   "outputs": [],
   "source": [
    "# Compiling the model\n",
    "model.compile(loss='categorical_crossentropy',\n",
    "              optimizer='rmsprop',\n",
    "              metrics=['accuracy'])"
   ]
  },
  {
   "cell_type": "code",
   "execution_count": 127,
   "metadata": {},
   "outputs": [
    {
     "name": "stdout",
     "output_type": "stream",
     "text": [
      "Train on 7352 samples, validate on 2947 samples\n",
      "Epoch 1/30\n",
      "7352/7352 [==============================] - 335s 46ms/step - loss: 1.2323 - accuracy: 0.4727 - val_loss: 1.0838 - val_accuracy: 0.5517\n",
      "Epoch 2/30\n",
      "7352/7352 [==============================] - 253s 34ms/step - loss: 0.8582 - accuracy: 0.6133 - val_loss: 0.7665 - val_accuracy: 0.6634\n",
      "Epoch 3/30\n",
      "7352/7352 [==============================] - 210s 29ms/step - loss: 0.7849 - accuracy: 0.6678 - val_loss: 0.7073 - val_accuracy: 0.7150\n",
      "Epoch 4/30\n",
      "7352/7352 [==============================] - 237s 32ms/step - loss: 0.6339 - accuracy: 0.7333 - val_loss: 0.6145 - val_accuracy: 0.7737\n",
      "Epoch 5/30\n",
      "7352/7352 [==============================] - 270s 37ms/step - loss: 0.5641 - accuracy: 0.7807 - val_loss: 0.4794 - val_accuracy: 0.8276\n",
      "Epoch 6/30\n",
      "7352/7352 [==============================] - 275s 37ms/step - loss: 0.4266 - accuracy: 0.8621 - val_loss: 0.3470 - val_accuracy: 0.8782\n",
      "Epoch 7/30\n",
      "7352/7352 [==============================] - 211s 29ms/step - loss: 0.2898 - accuracy: 0.9059 - val_loss: 0.4922 - val_accuracy: 0.8653\n",
      "Epoch 8/30\n",
      "7352/7352 [==============================] - 212s 29ms/step - loss: 0.3078 - accuracy: 0.9007 - val_loss: 0.3282 - val_accuracy: 0.8853\n",
      "Epoch 9/30\n",
      "7352/7352 [==============================] - 176s 24ms/step - loss: 0.2432 - accuracy: 0.9226 - val_loss: 0.4303 - val_accuracy: 0.8785\n",
      "Epoch 10/30\n",
      "7352/7352 [==============================] - 177s 24ms/step - loss: 0.2080 - accuracy: 0.9301 - val_loss: 0.3728 - val_accuracy: 0.8985\n",
      "Epoch 11/30\n",
      "7352/7352 [==============================] - 179s 24ms/step - loss: 0.1814 - accuracy: 0.9361 - val_loss: 0.4181 - val_accuracy: 0.9053\n",
      "Epoch 12/30\n",
      "7352/7352 [==============================] - 185s 25ms/step - loss: 0.1669 - accuracy: 0.9389 - val_loss: 0.4217 - val_accuracy: 0.8972\n",
      "Epoch 13/30\n",
      "7352/7352 [==============================] - 168s 23ms/step - loss: 0.1848 - accuracy: 0.9363 - val_loss: 0.4813 - val_accuracy: 0.9074\n",
      "Epoch 14/30\n",
      "7352/7352 [==============================] - 178s 24ms/step - loss: 0.1907 - accuracy: 0.9391 - val_loss: 0.6607 - val_accuracy: 0.8585\n",
      "Epoch 15/30\n",
      "7352/7352 [==============================] - 170s 23ms/step - loss: 0.1611 - accuracy: 0.9449 - val_loss: 0.2482 - val_accuracy: 0.9175\n",
      "Epoch 16/30\n",
      "7352/7352 [==============================] - 176s 24ms/step - loss: 0.1775 - accuracy: 0.9434 - val_loss: 0.3645 - val_accuracy: 0.9169\n",
      "Epoch 17/30\n",
      "7352/7352 [==============================] - 185s 25ms/step - loss: 0.1508 - accuracy: 0.9464 - val_loss: 0.4787 - val_accuracy: 0.9091\n",
      "Epoch 18/30\n",
      "7352/7352 [==============================] - 183s 25ms/step - loss: 0.1494 - accuracy: 0.9476 - val_loss: 0.3080 - val_accuracy: 0.9172\n",
      "Epoch 19/30\n",
      "7352/7352 [==============================] - 214s 29ms/step - loss: 0.1494 - accuracy: 0.9470 - val_loss: 0.3242 - val_accuracy: 0.9240\n",
      "Epoch 20/30\n",
      "7352/7352 [==============================] - 226s 31ms/step - loss: 0.1448 - accuracy: 0.9448 - val_loss: 0.3845 - val_accuracy: 0.9179\n",
      "Epoch 21/30\n",
      "7352/7352 [==============================] - 184s 25ms/step - loss: 0.1441 - accuracy: 0.9491 - val_loss: 0.3254 - val_accuracy: 0.9138\n",
      "Epoch 22/30\n",
      "7352/7352 [==============================] - 154s 21ms/step - loss: 0.1370 - accuracy: 0.9493 - val_loss: 0.4371 - val_accuracy: 0.9138\n",
      "Epoch 23/30\n",
      "7352/7352 [==============================] - 156s 21ms/step - loss: 0.1372 - accuracy: 0.9494 - val_loss: 0.3453 - val_accuracy: 0.9074\n",
      "Epoch 24/30\n",
      "7352/7352 [==============================] - 195s 26ms/step - loss: 0.1329 - accuracy: 0.9516 - val_loss: 0.3688 - val_accuracy: 0.9284\n",
      "Epoch 25/30\n",
      "7352/7352 [==============================] - 215s 29ms/step - loss: 0.1404 - accuracy: 0.9533 - val_loss: 0.4563 - val_accuracy: 0.9026\n",
      "Epoch 26/30\n",
      "7352/7352 [==============================] - 183s 25ms/step - loss: 0.1448 - accuracy: 0.9487 - val_loss: 0.4691 - val_accuracy: 0.9063\n",
      "Epoch 27/30\n",
      "7352/7352 [==============================] - 213s 29ms/step - loss: 0.1358 - accuracy: 0.9524 - val_loss: 0.4233 - val_accuracy: 0.9036\n",
      "Epoch 28/30\n",
      "7352/7352 [==============================] - 275s 37ms/step - loss: 0.1342 - accuracy: 0.9502 - val_loss: 0.2551 - val_accuracy: 0.9284\n",
      "Epoch 29/30\n",
      "7352/7352 [==============================] - 183s 25ms/step - loss: 0.1285 - accuracy: 0.9531 - val_loss: 0.3803 - val_accuracy: 0.9162\n",
      "Epoch 30/30\n",
      "7352/7352 [==============================] - 176s 24ms/step - loss: 0.1666 - accuracy: 0.9467 - val_loss: 0.2756 - val_accuracy: 0.9284\n"
     ]
    },
    {
     "data": {
      "text/plain": [
       "<keras.callbacks.callbacks.History at 0x64f3f29b0>"
      ]
     },
     "execution_count": 127,
     "metadata": {},
     "output_type": "execute_result"
    }
   ],
   "source": [
    "# Training the model\n",
    "model.fit(X_train,\n",
    "          Y_train,\n",
    "          batch_size=batch_size,\n",
    "          validation_data=(X_test, Y_test),\n",
    "          epochs=epochs)"
   ]
  },
  {
   "cell_type": "code",
   "execution_count": 131,
   "metadata": {},
   "outputs": [
    {
     "name": "stdout",
     "output_type": "stream",
     "text": [
      "Pred                LAYING  SITTING  STANDING  WALKING  WALKING_DOWNSTAIRS  \\\n",
      "True                                                                         \n",
      "LAYING                 535        0         0        0                   0   \n",
      "SITTING                  0      416        67        0                   0   \n",
      "STANDING                 0       96       434        1                   0   \n",
      "WALKING                  0        0         0      491                   3   \n",
      "WALKING_DOWNSTAIRS       0        0         0        6                 413   \n",
      "WALKING_UPSTAIRS         0        0         1       15                   8   \n",
      "\n",
      "Pred                WALKING_UPSTAIRS  \n",
      "True                                  \n",
      "LAYING                             2  \n",
      "SITTING                            8  \n",
      "STANDING                           1  \n",
      "WALKING                            2  \n",
      "WALKING_DOWNSTAIRS                 1  \n",
      "WALKING_UPSTAIRS                 447  \n"
     ]
    }
   ],
   "source": [
    "# Confusion Matrix\n",
    "print(confusion_matrix(Y_test, model.predict(X_test)))"
   ]
  },
  {
   "cell_type": "code",
   "execution_count": 132,
   "metadata": {},
   "outputs": [
    {
     "name": "stdout",
     "output_type": "stream",
     "text": [
      "2947/2947 [==============================] - 15s 5ms/step\n"
     ]
    }
   ],
   "source": [
    "score = model.evaluate(X_test, Y_test)"
   ]
  },
  {
   "cell_type": "code",
   "execution_count": 133,
   "metadata": {},
   "outputs": [
    {
     "data": {
      "text/plain": [
       "[0.27563241636243435, 0.92840176820755]"
      ]
     },
     "execution_count": 133,
     "metadata": {},
     "output_type": "execute_result"
    }
   ],
   "source": [
    "score"
   ]
  },
  {
   "cell_type": "markdown",
   "metadata": {},
   "source": [
    "### Changing Dropout"
   ]
  },
  {
   "cell_type": "code",
   "execution_count": 41,
   "metadata": {},
   "outputs": [],
   "source": [
    "# Initializing parameters\n",
    "epochs = 30\n",
    "batch_size = 16\n",
    "n_hidden = 32"
   ]
  },
  {
   "cell_type": "code",
   "execution_count": 42,
   "metadata": {},
   "outputs": [
    {
     "name": "stdout",
     "output_type": "stream",
     "text": [
      "Model: \"sequential_5\"\n",
      "_________________________________________________________________\n",
      "Layer (type)                 Output Shape              Param #   \n",
      "=================================================================\n",
      "lstm_5 (LSTM)                (None, 32)                5376      \n",
      "_________________________________________________________________\n",
      "dropout_5 (Dropout)          (None, 32)                0         \n",
      "_________________________________________________________________\n",
      "dense_5 (Dense)              (None, 6)                 198       \n",
      "=================================================================\n",
      "Total params: 5,574\n",
      "Trainable params: 5,574\n",
      "Non-trainable params: 0\n",
      "_________________________________________________________________\n"
     ]
    }
   ],
   "source": [
    "# Initiliazing the sequential model\n",
    "model = Sequential()\n",
    "# Configuring the parameters\n",
    "model.add(LSTM(n_hidden, input_shape=(timesteps, input_dim)))\n",
    "# Adding a dropout layer\n",
    "model.add(Dropout(0.7))\n",
    "# Adding a dense output layer with sigmoid activation\n",
    "model.add(Dense(n_classes, activation='sigmoid'))\n",
    "model.summary()"
   ]
  },
  {
   "cell_type": "code",
   "execution_count": 43,
   "metadata": {},
   "outputs": [],
   "source": [
    "# Compiling the model\n",
    "model.compile(loss='categorical_crossentropy',\n",
    "              optimizer='rmsprop',\n",
    "              metrics=['accuracy'])"
   ]
  },
  {
   "cell_type": "code",
   "execution_count": 44,
   "metadata": {},
   "outputs": [
    {
     "name": "stdout",
     "output_type": "stream",
     "text": [
      "Train on 7352 samples, validate on 2947 samples\n",
      "Epoch 1/30\n",
      "7352/7352 [==============================] - 131s 18ms/step - loss: 1.3737 - accuracy: 0.4276 - val_loss: 1.1522 - val_accuracy: 0.4951\n",
      "Epoch 2/30\n",
      "7352/7352 [==============================] - 118s 16ms/step - loss: 1.0582 - accuracy: 0.5358 - val_loss: 0.9802 - val_accuracy: 0.5643\n",
      "Epoch 3/30\n",
      "7352/7352 [==============================] - 117s 16ms/step - loss: 0.9794 - accuracy: 0.5681 - val_loss: 0.9824 - val_accuracy: 0.5168\n",
      "Epoch 4/30\n",
      "7352/7352 [==============================] - 118s 16ms/step - loss: 1.0273 - accuracy: 0.5491 - val_loss: 0.9189 - val_accuracy: 0.5775\n",
      "Epoch 5/30\n",
      "7352/7352 [==============================] - 119s 16ms/step - loss: 0.8047 - accuracy: 0.6411 - val_loss: 0.8748 - val_accuracy: 0.5969\n",
      "Epoch 6/30\n",
      "7352/7352 [==============================] - 119s 16ms/step - loss: 0.8253 - accuracy: 0.6299 - val_loss: 0.8473 - val_accuracy: 0.6057\n",
      "Epoch 7/30\n",
      "7352/7352 [==============================] - 134s 18ms/step - loss: 0.7336 - accuracy: 0.6629 - val_loss: 0.7836 - val_accuracy: 0.6081\n",
      "Epoch 8/30\n",
      "7352/7352 [==============================] - 120s 16ms/step - loss: 0.7220 - accuracy: 0.6835 - val_loss: 0.8439 - val_accuracy: 0.6529\n",
      "Epoch 9/30\n",
      "7352/7352 [==============================] - 116s 16ms/step - loss: 0.7002 - accuracy: 0.7101 - val_loss: 0.8434 - val_accuracy: 0.7143\n",
      "Epoch 10/30\n",
      "7352/7352 [==============================] - 116s 16ms/step - loss: 0.6881 - accuracy: 0.7369 - val_loss: 0.6961 - val_accuracy: 0.7479\n",
      "Epoch 11/30\n",
      "7352/7352 [==============================] - 131s 18ms/step - loss: 0.5817 - accuracy: 0.7787 - val_loss: 0.8060 - val_accuracy: 0.7462\n",
      "Epoch 12/30\n",
      "7352/7352 [==============================] - 136s 18ms/step - loss: 0.5308 - accuracy: 0.7969 - val_loss: 0.5615 - val_accuracy: 0.7818\n",
      "Epoch 13/30\n",
      "7352/7352 [==============================] - 129s 18ms/step - loss: 0.5646 - accuracy: 0.7976 - val_loss: 0.6740 - val_accuracy: 0.7665\n",
      "Epoch 14/30\n",
      "7352/7352 [==============================] - 119s 16ms/step - loss: 0.4805 - accuracy: 0.8300 - val_loss: 0.6425 - val_accuracy: 0.7920\n",
      "Epoch 15/30\n",
      "7352/7352 [==============================] - 115s 16ms/step - loss: 0.5441 - accuracy: 0.8162 - val_loss: 0.8308 - val_accuracy: 0.7825\n",
      "Epoch 16/30\n",
      "7352/7352 [==============================] - 115s 16ms/step - loss: 0.4790 - accuracy: 0.8426 - val_loss: 0.5679 - val_accuracy: 0.8076\n",
      "Epoch 17/30\n",
      "7352/7352 [==============================] - 118s 16ms/step - loss: 0.4450 - accuracy: 0.8588 - val_loss: 0.8075 - val_accuracy: 0.8022\n",
      "Epoch 18/30\n",
      "7352/7352 [==============================] - 130s 18ms/step - loss: 0.4052 - accuracy: 0.8829 - val_loss: 0.5603 - val_accuracy: 0.8442\n",
      "Epoch 19/30\n",
      "7352/7352 [==============================] - 129s 18ms/step - loss: 0.3791 - accuracy: 0.8915 - val_loss: 0.4587 - val_accuracy: 0.8473\n",
      "Epoch 20/30\n",
      "7352/7352 [==============================] - 130s 18ms/step - loss: 0.3629 - accuracy: 0.8936 - val_loss: 0.4256 - val_accuracy: 0.8738\n",
      "Epoch 21/30\n",
      "7352/7352 [==============================] - 129s 18ms/step - loss: 0.3635 - accuracy: 0.9013 - val_loss: 0.6416 - val_accuracy: 0.8582\n",
      "Epoch 22/30\n",
      "7352/7352 [==============================] - 135s 18ms/step - loss: 0.3661 - accuracy: 0.8950 - val_loss: 0.5373 - val_accuracy: 0.8371\n",
      "Epoch 23/30\n",
      "7352/7352 [==============================] - 142s 19ms/step - loss: 0.3318 - accuracy: 0.9055 - val_loss: 0.4484 - val_accuracy: 0.8744\n",
      "Epoch 24/30\n",
      "7352/7352 [==============================] - 125s 17ms/step - loss: 0.3218 - accuracy: 0.9142 - val_loss: 0.7172 - val_accuracy: 0.8527\n",
      "Epoch 25/30\n",
      "7352/7352 [==============================] - 127s 17ms/step - loss: 0.2925 - accuracy: 0.9163 - val_loss: 0.5847 - val_accuracy: 0.8843\n",
      "Epoch 26/30\n",
      "7352/7352 [==============================] - 130s 18ms/step - loss: 0.2644 - accuracy: 0.9212 - val_loss: 0.6235 - val_accuracy: 0.8707\n",
      "Epoch 27/30\n",
      "7352/7352 [==============================] - 132s 18ms/step - loss: 0.2724 - accuracy: 0.9223 - val_loss: 0.6380 - val_accuracy: 0.8826\n",
      "Epoch 28/30\n",
      "7352/7352 [==============================] - 131s 18ms/step - loss: 0.2841 - accuracy: 0.9214 - val_loss: 0.5960 - val_accuracy: 0.8829\n",
      "Epoch 29/30\n",
      "7352/7352 [==============================] - 130s 18ms/step - loss: 0.3320 - accuracy: 0.9125 - val_loss: 0.8264 - val_accuracy: 0.8514\n",
      "Epoch 30/30\n",
      "7352/7352 [==============================] - 127s 17ms/step - loss: 0.3255 - accuracy: 0.9191 - val_loss: 0.8671 - val_accuracy: 0.8476\n"
     ]
    },
    {
     "data": {
      "text/plain": [
       "<keras.callbacks.callbacks.History at 0x645d1ada0>"
      ]
     },
     "execution_count": 44,
     "metadata": {},
     "output_type": "execute_result"
    }
   ],
   "source": [
    "# Training the model\n",
    "model.fit(X_train,\n",
    "          Y_train,\n",
    "          batch_size=batch_size,\n",
    "          validation_data=(X_test, Y_test),\n",
    "          epochs=epochs)"
   ]
  },
  {
   "cell_type": "code",
   "execution_count": 45,
   "metadata": {},
   "outputs": [
    {
     "name": "stdout",
     "output_type": "stream",
     "text": [
      "Pred                LAYING  SITTING  STANDING  WALKING  WALKING_DOWNSTAIRS  \\\n",
      "True                                                                         \n",
      "LAYING                 484       25         6        1                   0   \n",
      "SITTING                  0      370        92        2                   1   \n",
      "STANDING                 0       65       398        8                   0   \n",
      "WALKING                  0        0         0      431                   9   \n",
      "WALKING_DOWNSTAIRS       0        0         0       25                 388   \n",
      "WALKING_UPSTAIRS         0        2         0       30                  12   \n",
      "\n",
      "Pred                WALKING_UPSTAIRS  \n",
      "True                                  \n",
      "LAYING                            21  \n",
      "SITTING                           26  \n",
      "STANDING                          61  \n",
      "WALKING                           56  \n",
      "WALKING_DOWNSTAIRS                 7  \n",
      "WALKING_UPSTAIRS                 427  \n"
     ]
    }
   ],
   "source": [
    "# Confusion Matrix\n",
    "print(confusion_matrix(Y_test, model.predict(X_test)))"
   ]
  },
  {
   "cell_type": "code",
   "execution_count": 46,
   "metadata": {},
   "outputs": [
    {
     "name": "stdout",
     "output_type": "stream",
     "text": [
      "2947/2947 [==============================] - 8s 3ms/step\n"
     ]
    }
   ],
   "source": [
    "score = model.evaluate(X_test, Y_test)"
   ]
  },
  {
   "cell_type": "code",
   "execution_count": 47,
   "metadata": {},
   "outputs": [
    {
     "data": {
      "text/plain": [
       "[0.8671318305163158, 0.84764164686203]"
      ]
     },
     "execution_count": 47,
     "metadata": {},
     "output_type": "execute_result"
    }
   ],
   "source": [
    "score"
   ]
  },
  {
   "cell_type": "markdown",
   "metadata": {},
   "source": [
    "### Adding More layers"
   ]
  },
  {
   "cell_type": "code",
   "execution_count": 48,
   "metadata": {},
   "outputs": [],
   "source": [
    "# Initializing parameters\n",
    "epochs = 30\n",
    "batch_size = 16\n",
    "n_hidden = 64"
   ]
  },
  {
   "cell_type": "code",
   "execution_count": 52,
   "metadata": {},
   "outputs": [
    {
     "name": "stdout",
     "output_type": "stream",
     "text": [
      "Model: \"sequential_9\"\n",
      "_________________________________________________________________\n",
      "Layer (type)                 Output Shape              Param #   \n",
      "=================================================================\n",
      "lstm_12 (LSTM)               (None, 64)                18944     \n",
      "_________________________________________________________________\n",
      "dropout_9 (Dropout)          (None, 64)                0         \n",
      "_________________________________________________________________\n",
      "dense_6 (Dense)              (None, 6)                 390       \n",
      "=================================================================\n",
      "Total params: 19,334\n",
      "Trainable params: 19,334\n",
      "Non-trainable params: 0\n",
      "_________________________________________________________________\n"
     ]
    }
   ],
   "source": [
    "# Initiliazing the sequential model\n",
    "model = Sequential()\n",
    "# Configuring the parameters\n",
    "model.add(LSTM(n_hidden, input_shape=(timesteps, input_dim)))\n",
    "# Adding a dropout layer\n",
    "model.add(Dropout(0.4))\n",
    "# Adding a dense output layer with sigmoid activation\n",
    "model.add(Dense(n_classes, activation='sigmoid'))\n",
    "model.summary()"
   ]
  },
  {
   "cell_type": "code",
   "execution_count": 53,
   "metadata": {},
   "outputs": [],
   "source": [
    "# Compiling the model\n",
    "model.compile(loss='categorical_crossentropy',\n",
    "              optimizer='rmsprop',\n",
    "              metrics=['accuracy'])"
   ]
  },
  {
   "cell_type": "code",
   "execution_count": 54,
   "metadata": {},
   "outputs": [
    {
     "name": "stdout",
     "output_type": "stream",
     "text": [
      "Train on 7352 samples, validate on 2947 samples\n",
      "Epoch 1/30\n",
      "7352/7352 [==============================] - 181s 25ms/step - loss: 1.2111 - accuracy: 0.4767 - val_loss: 1.1095 - val_accuracy: 0.5497\n",
      "Epoch 2/30\n",
      "7352/7352 [==============================] - 191s 26ms/step - loss: 0.8816 - accuracy: 0.6336 - val_loss: 0.8614 - val_accuracy: 0.6400\n",
      "Epoch 3/30\n",
      "7352/7352 [==============================] - 184s 25ms/step - loss: 0.6760 - accuracy: 0.7191 - val_loss: 1.2741 - val_accuracy: 0.5185\n",
      "Epoch 4/30\n",
      "7352/7352 [==============================] - 180s 24ms/step - loss: 0.5214 - accuracy: 0.8161 - val_loss: 0.5649 - val_accuracy: 0.8273\n",
      "Epoch 5/30\n",
      "7352/7352 [==============================] - 181s 25ms/step - loss: 0.3538 - accuracy: 0.8876 - val_loss: 0.3780 - val_accuracy: 0.8799\n",
      "Epoch 6/30\n",
      "7352/7352 [==============================] - 176s 24ms/step - loss: 0.2669 - accuracy: 0.9116 - val_loss: 0.5281 - val_accuracy: 0.8585\n",
      "Epoch 7/30\n",
      "7352/7352 [==============================] - 172s 23ms/step - loss: 0.2330 - accuracy: 0.9207 - val_loss: 0.4112 - val_accuracy: 0.8721\n",
      "Epoch 8/30\n",
      "7352/7352 [==============================] - 188s 26ms/step - loss: 0.2066 - accuracy: 0.9302 - val_loss: 0.3681 - val_accuracy: 0.8880\n",
      "Epoch 9/30\n",
      "7352/7352 [==============================] - 189s 26ms/step - loss: 0.1992 - accuracy: 0.9309 - val_loss: 0.3448 - val_accuracy: 0.8935\n",
      "Epoch 10/30\n",
      "7352/7352 [==============================] - 181s 25ms/step - loss: 0.1873 - accuracy: 0.9355 - val_loss: 0.5202 - val_accuracy: 0.8680\n",
      "Epoch 11/30\n",
      "7352/7352 [==============================] - 182s 25ms/step - loss: 0.1750 - accuracy: 0.9419 - val_loss: 0.3328 - val_accuracy: 0.9013\n",
      "Epoch 12/30\n",
      "7352/7352 [==============================] - 176s 24ms/step - loss: 0.1649 - accuracy: 0.9389 - val_loss: 0.3874 - val_accuracy: 0.8846\n",
      "Epoch 13/30\n",
      "7352/7352 [==============================] - 177s 24ms/step - loss: 0.1559 - accuracy: 0.9450 - val_loss: 0.3335 - val_accuracy: 0.9111\n",
      "Epoch 14/30\n",
      "7352/7352 [==============================] - 181s 25ms/step - loss: 0.1632 - accuracy: 0.9431 - val_loss: 0.4399 - val_accuracy: 0.9043\n",
      "Epoch 15/30\n",
      "7352/7352 [==============================] - 174s 24ms/step - loss: 0.1525 - accuracy: 0.9436 - val_loss: 0.3367 - val_accuracy: 0.8958\n",
      "Epoch 16/30\n",
      "7352/7352 [==============================] - 184s 25ms/step - loss: 0.1397 - accuracy: 0.9472 - val_loss: 0.4192 - val_accuracy: 0.8958\n",
      "Epoch 17/30\n",
      "7352/7352 [==============================] - 170s 23ms/step - loss: 0.1426 - accuracy: 0.9501 - val_loss: 0.3113 - val_accuracy: 0.9087\n",
      "Epoch 18/30\n",
      "7352/7352 [==============================] - 173s 24ms/step - loss: 0.1371 - accuracy: 0.9497 - val_loss: 0.3204 - val_accuracy: 0.9057\n",
      "Epoch 19/30\n",
      "7352/7352 [==============================] - 170s 23ms/step - loss: 0.1412 - accuracy: 0.9497 - val_loss: 0.2370 - val_accuracy: 0.9138\n",
      "Epoch 20/30\n",
      "7352/7352 [==============================] - 165s 22ms/step - loss: 0.1490 - accuracy: 0.9475 - val_loss: 0.2868 - val_accuracy: 0.9128\n",
      "Epoch 21/30\n",
      "7352/7352 [==============================] - 175s 24ms/step - loss: 0.1303 - accuracy: 0.9472 - val_loss: 0.7616 - val_accuracy: 0.8748\n",
      "Epoch 22/30\n",
      "7352/7352 [==============================] - 175s 24ms/step - loss: 0.1344 - accuracy: 0.9474 - val_loss: 0.3695 - val_accuracy: 0.9019\n",
      "Epoch 23/30\n",
      "7352/7352 [==============================] - 186s 25ms/step - loss: 0.1287 - accuracy: 0.9490 - val_loss: 0.2724 - val_accuracy: 0.9101\n",
      "Epoch 24/30\n",
      "7352/7352 [==============================] - 174s 24ms/step - loss: 0.1210 - accuracy: 0.9518 - val_loss: 0.2277 - val_accuracy: 0.9152\n",
      "Epoch 25/30\n",
      "7352/7352 [==============================] - 188s 26ms/step - loss: 0.1201 - accuracy: 0.9520 - val_loss: 0.3673 - val_accuracy: 0.9158\n",
      "Epoch 26/30\n",
      "7352/7352 [==============================] - 171s 23ms/step - loss: 0.1258 - accuracy: 0.9527 - val_loss: 0.3518 - val_accuracy: 0.9182\n",
      "Epoch 27/30\n",
      "7352/7352 [==============================] - 180s 24ms/step - loss: 0.1389 - accuracy: 0.9461 - val_loss: 0.3393 - val_accuracy: 0.9196\n",
      "Epoch 28/30\n",
      "7352/7352 [==============================] - 172s 23ms/step - loss: 0.1268 - accuracy: 0.9494 - val_loss: 0.3260 - val_accuracy: 0.8941\n",
      "Epoch 29/30\n",
      "7352/7352 [==============================] - 170s 23ms/step - loss: 0.1226 - accuracy: 0.9529 - val_loss: 0.2653 - val_accuracy: 0.9223\n",
      "Epoch 30/30\n",
      "7352/7352 [==============================] - 166s 23ms/step - loss: 0.1291 - accuracy: 0.9510 - val_loss: 0.3104 - val_accuracy: 0.9131\n"
     ]
    },
    {
     "data": {
      "text/plain": [
       "<keras.callbacks.callbacks.History at 0x6549c6320>"
      ]
     },
     "execution_count": 54,
     "metadata": {},
     "output_type": "execute_result"
    }
   ],
   "source": [
    "# Training the model\n",
    "model.fit(X_train,\n",
    "          Y_train,\n",
    "          batch_size=batch_size,\n",
    "          validation_data=(X_test, Y_test),\n",
    "          epochs=epochs)"
   ]
  },
  {
   "cell_type": "code",
   "execution_count": 55,
   "metadata": {},
   "outputs": [
    {
     "name": "stdout",
     "output_type": "stream",
     "text": [
      "Pred                LAYING  SITTING  STANDING  WALKING  WALKING_DOWNSTAIRS  \\\n",
      "True                                                                         \n",
      "LAYING                 510        0        27        0                   0   \n",
      "SITTING                  0      394        96        1                   0   \n",
      "STANDING                 0       63       468        1                   0   \n",
      "WALKING                  0        0         0      489                   0   \n",
      "WALKING_DOWNSTAIRS       0        0         0        9                 410   \n",
      "WALKING_UPSTAIRS         0        0         0       47                   4   \n",
      "\n",
      "Pred                WALKING_UPSTAIRS  \n",
      "True                                  \n",
      "LAYING                             0  \n",
      "SITTING                            0  \n",
      "STANDING                           0  \n",
      "WALKING                            7  \n",
      "WALKING_DOWNSTAIRS                 1  \n",
      "WALKING_UPSTAIRS                 420  \n"
     ]
    }
   ],
   "source": [
    "# Confusion Matrix\n",
    "print(confusion_matrix(Y_test, model.predict(X_test)))"
   ]
  },
  {
   "cell_type": "code",
   "execution_count": 56,
   "metadata": {},
   "outputs": [
    {
     "name": "stdout",
     "output_type": "stream",
     "text": [
      "2947/2947 [==============================] - 12s 4ms/step\n"
     ]
    }
   ],
   "source": [
    "score = model.evaluate(X_test, Y_test)"
   ]
  },
  {
   "cell_type": "code",
   "execution_count": 57,
   "metadata": {},
   "outputs": [
    {
     "data": {
      "text/plain": [
       "[0.31043342269294943, 0.9131320118904114]"
      ]
     },
     "execution_count": 57,
     "metadata": {},
     "output_type": "execute_result"
    }
   ],
   "source": [
    "score"
   ]
  },
  {
   "cell_type": "code",
   "execution_count": 24,
   "metadata": {},
   "outputs": [],
   "source": [
    "# Initializing parameters\n",
    "epochs = 30\n",
    "batch_size = 16\n",
    "n_hidden = 64"
   ]
  },
  {
   "cell_type": "code",
   "execution_count": 125,
   "metadata": {},
   "outputs": [
    {
     "name": "stdout",
     "output_type": "stream",
     "text": [
      "Model: \"sequential_29\"\n",
      "_________________________________________________________________\n",
      "Layer (type)                 Output Shape              Param #   \n",
      "=================================================================\n",
      "lstm_45 (LSTM)               (None, 128, 64)           18944     \n",
      "_________________________________________________________________\n",
      "dropout_39 (Dropout)         (None, 128, 64)           0         \n",
      "_________________________________________________________________\n",
      "lstm_46 (LSTM)               (None, 64)                33024     \n",
      "_________________________________________________________________\n",
      "dropout_40 (Dropout)         (None, 64)                0         \n",
      "_________________________________________________________________\n",
      "dense_51 (Dense)             (None, 6)                 390       \n",
      "=================================================================\n",
      "Total params: 52,358\n",
      "Trainable params: 52,358\n",
      "Non-trainable params: 0\n",
      "_________________________________________________________________\n"
     ]
    }
   ],
   "source": [
    "# Initiliazing the sequential model\n",
    "model = Sequential()\n",
    "# Configuring the parameters\n",
    "model.add(LSTM(n_hidden,return_sequences=True,input_shape=(timesteps, input_dim)))\n",
    "# Adding a dropout layer\n",
    "model.add(Dropout(0.55))\n",
    "# Configuring the parameters\n",
    "model.add(LSTM(n_hidden, input_shape=(timesteps, input_dim)))\n",
    "# Adding a dropout layer\n",
    "model.add(Dropout(0.6))\n",
    "# Adding a dense output layer with sigmoid activation\n",
    "model.add(Dense(n_classes, activation='sigmoid'))\n",
    "model.summary()"
   ]
  },
  {
   "cell_type": "code",
   "execution_count": 126,
   "metadata": {},
   "outputs": [],
   "source": [
    "# Compiling the model\n",
    "model.compile(loss='categorical_crossentropy',\n",
    "              optimizer='rmsprop',\n",
    "              metrics=['accuracy'])"
   ]
  },
  {
   "cell_type": "code",
   "execution_count": 68,
   "metadata": {},
   "outputs": [
    {
     "name": "stdout",
     "output_type": "stream",
     "text": [
      "Pred                LAYING  SITTING  STANDING  WALKING  WALKING_DOWNSTAIRS  \\\n",
      "True                                                                         \n",
      "LAYING                 512        0         0        0                   0   \n",
      "SITTING                  3      417        67        1                   0   \n",
      "STANDING                 0      111       420        0                   0   \n",
      "WALKING                  0        0         1      467                  17   \n",
      "WALKING_DOWNSTAIRS       0        0         0        2                 415   \n",
      "WALKING_UPSTAIRS         0        1         2        4                  12   \n",
      "\n",
      "Pred                WALKING_UPSTAIRS  \n",
      "True                                  \n",
      "LAYING                            25  \n",
      "SITTING                            3  \n",
      "STANDING                           1  \n",
      "WALKING                           11  \n",
      "WALKING_DOWNSTAIRS                 3  \n",
      "WALKING_UPSTAIRS                 452  \n"
     ]
    }
   ],
   "source": [
    "# Confusion Matrix\n",
    "print(confusion_matrix(Y_test, model.predict(X_test)))"
   ]
  },
  {
   "cell_type": "code",
   "execution_count": 19,
   "metadata": {},
   "outputs": [],
   "source": [
    "Y_train_dynamic=[]\n",
    "X_train_dynamic=[]\n",
    "Y_train_static=[]\n",
    "X_train_static=[]\n",
    "for i in range(0,len(Y_train)):\n",
    "    if(Y_train[i][0]==1 or Y_train[i][1]==1 or Y_train[i][2]==1):\n",
    "        Y_train_dynamic.append(Y_train[i])\n",
    "        X_train_dynamic.append(X_train[i])\n",
    "    else:\n",
    "        Y_train_static.append(Y_train[i])\n",
    "        X_train_static.append(X_train[i])"
   ]
  },
  {
   "cell_type": "code",
   "execution_count": 20,
   "metadata": {},
   "outputs": [],
   "source": [
    "X_train_dynamic=np.array(X_train_dynamic)\n",
    "Y_train_dynamic=np.array(Y_train_dynamic)\n",
    "X_train_static=np.array(X_train_static)\n",
    "Y_train_static=np.array(Y_train_static)\n"
   ]
  },
  {
   "cell_type": "code",
   "execution_count": 21,
   "metadata": {},
   "outputs": [],
   "source": [
    "Y_train_dynamic=Y_train_dynamic[0:len(Y_train_dynamic),0:3]"
   ]
  },
  {
   "cell_type": "code",
   "execution_count": 22,
   "metadata": {},
   "outputs": [
    {
     "data": {
      "text/plain": [
       "(3285, 3)"
      ]
     },
     "execution_count": 22,
     "metadata": {},
     "output_type": "execute_result"
    }
   ],
   "source": [
    "Y_train_dynamic.shape"
   ]
  },
  {
   "cell_type": "code",
   "execution_count": 27,
   "metadata": {},
   "outputs": [],
   "source": [
    "Y_test_dynamic=Y_test_dynamic[0:len(Y_test_dynamic),0:3]"
   ]
  },
  {
   "cell_type": "code",
   "execution_count": 24,
   "metadata": {},
   "outputs": [],
   "source": [
    "Y_test_dynamic=[]\n",
    "X_test_dynamic=[]\n",
    "Y_test_static=[]\n",
    "X_test_static=[]\n",
    "for i in range(0,len(Y_test)):\n",
    "    if(Y_test[i][0]==1 or Y_test[i][1]==1 or Y_test[i][2]==1):\n",
    "        Y_test_dynamic.append(Y_test[i])\n",
    "        X_test_dynamic.append(X_test[i])\n",
    "    else:\n",
    "        Y_test_static.append(Y_test[i])\n",
    "        X_test_static.append(X_test[i])"
   ]
  },
  {
   "cell_type": "code",
   "execution_count": 26,
   "metadata": {},
   "outputs": [],
   "source": [
    "X_test_dynamic=np.array(X_test_dynamic)\n",
    "Y_test_dynamic=np.array(Y_test_dynamic)\n",
    "X_test_static=np.array(X_test_static)\n",
    "Y_test_static=np.array(Y_test_static)"
   ]
  },
  {
   "cell_type": "code",
   "execution_count": 28,
   "metadata": {},
   "outputs": [
    {
     "name": "stdout",
     "output_type": "stream",
     "text": [
      "2947/2947 [==============================] - 24s 8ms/step\n"
     ]
    }
   ],
   "source": [
    "score = model.evaluate(X_test, Y_test)"
   ]
  },
  {
   "cell_type": "code",
   "execution_count": 29,
   "metadata": {},
   "outputs": [
    {
     "data": {
      "text/plain": [
       "[0.3660856851979343, 0.9205971956253052]"
      ]
     },
     "execution_count": 29,
     "metadata": {},
     "output_type": "execute_result"
    }
   ],
   "source": [
    "score"
   ]
  },
  {
   "cell_type": "code",
   "execution_count": 257,
   "metadata": {},
   "outputs": [],
   "source": [
    "# Initializing parameters\n",
    "epochs = 30\n",
    "batch_size = 32\n",
    "n_hidden = 64"
   ]
  },
  {
   "cell_type": "code",
   "execution_count": 258,
   "metadata": {},
   "outputs": [],
   "source": [
    "from keras.regularizers import l2"
   ]
  },
  {
   "cell_type": "code",
   "execution_count": 259,
   "metadata": {},
   "outputs": [
    {
     "name": "stdout",
     "output_type": "stream",
     "text": [
      "Model: \"sequential_78\"\n",
      "_________________________________________________________________\n",
      "Layer (type)                 Output Shape              Param #   \n",
      "=================================================================\n",
      "lstm_53 (LSTM)               (None, 128, 128)          70656     \n",
      "_________________________________________________________________\n",
      "dropout_81 (Dropout)         (None, 128, 128)          0         \n",
      "_________________________________________________________________\n",
      "lstm_54 (LSTM)               (None, 64)                49408     \n",
      "_________________________________________________________________\n",
      "dropout_82 (Dropout)         (None, 64)                0         \n",
      "_________________________________________________________________\n",
      "dense_121 (Dense)            (None, 50)                3250      \n",
      "_________________________________________________________________\n",
      "dense_122 (Dense)            (None, 6)                 306       \n",
      "=================================================================\n",
      "Total params: 123,620\n",
      "Trainable params: 123,620\n",
      "Non-trainable params: 0\n",
      "_________________________________________________________________\n"
     ]
    }
   ],
   "source": [
    "# Initiliazing the sequential model\n",
    "model = Sequential()\n",
    "# Configuring the parameters\n",
    "model.add(LSTM(128,return_sequences=True,input_shape=(timesteps, input_dim),bias_regularizer=l2(0.001)))\n",
    "# Adding a dropout layer\n",
    "model.add(Dropout(0.2))\n",
    "\n",
    "model.add(LSTM(64,input_shape=(timesteps, input_dim),bias_regularizer=l2(0.001)))\n",
    "# Adding a dropout layer\n",
    "model.add(Dropout(0.5))\n",
    "model.add(Dense(50, activation='sigmoid'))\n",
    "# Adding a dense output layer with sigmoid activation\n",
    "model.add(Dense(n_classes, activation='sigmoid'))\n",
    "model.summary()"
   ]
  },
  {
   "cell_type": "code",
   "execution_count": 260,
   "metadata": {},
   "outputs": [],
   "source": [
    "# Compiling the model\n",
    "model.compile(loss='categorical_crossentropy',\n",
    "              optimizer='rmsprop',\n",
    "              metrics=['accuracy'])"
   ]
  },
  {
   "cell_type": "code",
   "execution_count": 261,
   "metadata": {},
   "outputs": [
    {
     "name": "stdout",
     "output_type": "stream",
     "text": [
      "(7352, 128, 9)\n",
      "(7352, 6)\n",
      "(2947, 128, 9)\n",
      "(2947, 6)\n"
     ]
    }
   ],
   "source": [
    "print(X_train.shape)\n",
    "print(Y_train.shape)\n",
    "print(X_test.shape)\n",
    "print(Y_test.shape)"
   ]
  },
  {
   "cell_type": "code",
   "execution_count": 262,
   "metadata": {},
   "outputs": [
    {
     "name": "stdout",
     "output_type": "stream",
     "text": [
      "Train on 7352 samples, validate on 2947 samples\n",
      "Epoch 1/30\n",
      "7352/7352 [==============================] - 373s 51ms/step - loss: 1.4446 - accuracy: 0.4539 - val_loss: 1.1004 - val_accuracy: 0.5338\n",
      "Epoch 2/30\n",
      "7352/7352 [==============================] - 383s 52ms/step - loss: 0.9190 - accuracy: 0.6235 - val_loss: 0.8570 - val_accuracy: 0.6932\n",
      "Epoch 3/30\n",
      "7352/7352 [==============================] - 346s 47ms/step - loss: 0.7800 - accuracy: 0.6782 - val_loss: 0.6684 - val_accuracy: 0.7472\n",
      "Epoch 4/30\n",
      "7352/7352 [==============================] - 337s 46ms/step - loss: 0.6132 - accuracy: 0.7606 - val_loss: 0.5975 - val_accuracy: 0.7645\n",
      "Epoch 5/30\n",
      "7352/7352 [==============================] - 362s 49ms/step - loss: 0.5592 - accuracy: 0.7724 - val_loss: 0.7208 - val_accuracy: 0.6715\n",
      "Epoch 6/30\n",
      "7352/7352 [==============================] - 351s 48ms/step - loss: 0.4514 - accuracy: 0.8458 - val_loss: 0.4499 - val_accuracy: 0.8751\n",
      "Epoch 7/30\n",
      "7352/7352 [==============================] - 391s 53ms/step - loss: 0.3300 - accuracy: 0.9106 - val_loss: 0.3942 - val_accuracy: 0.9016\n",
      "Epoch 8/30\n",
      "7352/7352 [==============================] - 380s 52ms/step - loss: 0.2662 - accuracy: 0.9274 - val_loss: 0.3214 - val_accuracy: 0.8951\n",
      "Epoch 9/30\n",
      "7352/7352 [==============================] - 391s 53ms/step - loss: 0.2099 - accuracy: 0.9387 - val_loss: 0.3543 - val_accuracy: 0.8918\n",
      "Epoch 10/30\n",
      "7352/7352 [==============================] - 384s 52ms/step - loss: 0.1986 - accuracy: 0.9396 - val_loss: 0.3606 - val_accuracy: 0.8938\n",
      "Epoch 11/30\n",
      "7352/7352 [==============================] - 379s 52ms/step - loss: 0.1981 - accuracy: 0.9416 - val_loss: 0.9166 - val_accuracy: 0.8215\n",
      "Epoch 12/30\n",
      "7352/7352 [==============================] - 364s 49ms/step - loss: 0.1856 - accuracy: 0.9415 - val_loss: 0.2741 - val_accuracy: 0.9040\n",
      "Epoch 13/30\n",
      "7352/7352 [==============================] - 382s 52ms/step - loss: 0.1749 - accuracy: 0.9453 - val_loss: 0.2946 - val_accuracy: 0.9070\n",
      "Epoch 14/30\n",
      "7352/7352 [==============================] - 378s 51ms/step - loss: 0.1781 - accuracy: 0.9426 - val_loss: 0.3398 - val_accuracy: 0.9023\n",
      "Epoch 15/30\n",
      "7352/7352 [==============================] - 386s 53ms/step - loss: 0.1457 - accuracy: 0.9489 - val_loss: 0.3091 - val_accuracy: 0.9169\n",
      "Epoch 16/30\n",
      "7352/7352 [==============================] - 367s 50ms/step - loss: 0.1538 - accuracy: 0.9479 - val_loss: 0.4602 - val_accuracy: 0.8870\n",
      "Epoch 17/30\n",
      "7352/7352 [==============================] - 394s 54ms/step - loss: 0.1433 - accuracy: 0.9501 - val_loss: 0.2852 - val_accuracy: 0.9179\n",
      "Epoch 18/30\n",
      "7352/7352 [==============================] - 379s 52ms/step - loss: 0.1330 - accuracy: 0.9501 - val_loss: 0.3222 - val_accuracy: 0.9145\n",
      "Epoch 19/30\n",
      "7352/7352 [==============================] - 387s 53ms/step - loss: 0.1630 - accuracy: 0.9463 - val_loss: 0.5332 - val_accuracy: 0.9040\n",
      "Epoch 20/30\n",
      "7352/7352 [==============================] - 405s 55ms/step - loss: 0.1536 - accuracy: 0.9467 - val_loss: 0.4004 - val_accuracy: 0.9148\n",
      "Epoch 21/30\n",
      "7352/7352 [==============================] - 401s 54ms/step - loss: 0.1383 - accuracy: 0.9506 - val_loss: 0.3985 - val_accuracy: 0.8965\n",
      "Epoch 22/30\n",
      "7352/7352 [==============================] - 407s 55ms/step - loss: 0.1261 - accuracy: 0.9508 - val_loss: 0.3109 - val_accuracy: 0.9169\n",
      "Epoch 23/30\n",
      "7352/7352 [==============================] - 393s 53ms/step - loss: 0.1416 - accuracy: 0.9497 - val_loss: 0.4637 - val_accuracy: 0.9070\n",
      "Epoch 24/30\n",
      "7352/7352 [==============================] - 388s 53ms/step - loss: 0.1351 - accuracy: 0.9529 - val_loss: 0.4951 - val_accuracy: 0.9070\n",
      "Epoch 25/30\n",
      "7352/7352 [==============================] - 376s 51ms/step - loss: 0.1660 - accuracy: 0.9505 - val_loss: 0.7259 - val_accuracy: 0.8707\n",
      "Epoch 26/30\n",
      "7352/7352 [==============================] - 380s 52ms/step - loss: 0.1229 - accuracy: 0.9523 - val_loss: 0.3463 - val_accuracy: 0.9128\n",
      "Epoch 27/30\n",
      "7352/7352 [==============================] - 375s 51ms/step - loss: 0.1289 - accuracy: 0.9540 - val_loss: 0.3967 - val_accuracy: 0.9131\n",
      "Epoch 28/30\n",
      "7352/7352 [==============================] - 394s 54ms/step - loss: 0.1193 - accuracy: 0.9525 - val_loss: 0.4694 - val_accuracy: 0.8972\n",
      "Epoch 29/30\n",
      "7352/7352 [==============================] - 391s 53ms/step - loss: 0.1182 - accuracy: 0.9543 - val_loss: 0.3567 - val_accuracy: 0.9067\n",
      "Epoch 30/30\n",
      "7352/7352 [==============================] - 386s 52ms/step - loss: 0.1226 - accuracy: 0.9521 - val_loss: 0.3985 - val_accuracy: 0.9118\n"
     ]
    }
   ],
   "source": [
    "# Training the model\n",
    "history=model.fit(X_train,\n",
    "          Y_train,\n",
    "          batch_size=25,\n",
    "          validation_data=(X_test, Y_test),\n",
    "          epochs=epochs)"
   ]
  },
  {
   "cell_type": "code",
   "execution_count": 21,
   "metadata": {},
   "outputs": [
    {
     "name": "stdout",
     "output_type": "stream",
     "text": [
      "WARNING:tensorflow:From /Users/bhawesh/anaconda3/lib/python3.7/site-packages/tensorflow/python/ops/resource_variable_ops.py:435: colocate_with (from tensorflow.python.framework.ops) is deprecated and will be removed in a future version.\n",
      "Instructions for updating:\n",
      "Colocations handled automatically by placer.\n"
     ]
    },
    {
     "name": "stderr",
     "output_type": "stream",
     "text": [
      "/Users/bhawesh/anaconda3/lib/python3.7/site-packages/keras/activations.py:235: UserWarning: Do not pass a layer instance (such as LeakyReLU) as the activation argument of another layer. Instead, advanced activation layers should be used just like any other layer in a model.\n",
      "  identifier=identifier.__class__.__name__))\n"
     ]
    },
    {
     "name": "stdout",
     "output_type": "stream",
     "text": [
      "Model: \"sequential_2\"\n",
      "_________________________________________________________________\n",
      "Layer (type)                 Output Shape              Param #   \n",
      "=================================================================\n",
      "conv1d_1 (Conv1D)            (None, 128, 18)           180       \n",
      "_________________________________________________________________\n",
      "max_pooling1d_1 (MaxPooling1 (None, 64, 18)            0         \n",
      "_________________________________________________________________\n",
      "conv1d_2 (Conv1D)            (None, 62, 36)            1980      \n",
      "_________________________________________________________________\n",
      "max_pooling1d_2 (MaxPooling1 (None, 31, 36)            0         \n",
      "_________________________________________________________________\n",
      "conv1d_3 (Conv1D)            (None, 29, 36)            3924      \n",
      "_________________________________________________________________\n",
      "dropout_1 (Dropout)          (None, 29, 36)            0         \n",
      "_________________________________________________________________\n",
      "conv1d_4 (Conv1D)            (None, 14, 144)           15696     \n",
      "_________________________________________________________________\n",
      "max_pooling1d_3 (MaxPooling1 (None, 7, 144)            0         \n",
      "_________________________________________________________________\n",
      "dropout_2 (Dropout)          (None, 7, 144)            0         \n",
      "_________________________________________________________________\n",
      "flatten_1 (Flatten)          (None, 1008)              0         \n",
      "_________________________________________________________________\n",
      "dense_1 (Dense)              (None, 32)                32288     \n",
      "_________________________________________________________________\n",
      "dense_2 (Dense)              (None, 6)                 198       \n",
      "=================================================================\n",
      "Total params: 54,266\n",
      "Trainable params: 54,266\n",
      "Non-trainable params: 0\n",
      "_________________________________________________________________\n"
     ]
    }
   ],
   "source": [
    "from keras.layers.convolutional import Conv1D\n",
    "from keras.layers.convolutional import MaxPooling1D\n",
    "from keras.layers import Dense, Activation, Flatten\n",
    "from keras.layers import LeakyReLU\n",
    "model = Sequential()\n",
    "model.add(Conv1D(filters=18,kernel_size=1, activation=LeakyReLU(alpha=0.3)\n",
    "                 , input_shape=(timesteps,input_dim),kernel_initializer='glorot_uniform'))\n",
    "model.add(MaxPooling1D(pool_size=2))\n",
    "model.add(Conv1D(filters=36, kernel_size=3,kernel_initializer='glorot_uniform' ,activation=LeakyReLU(alpha=0.3)))\n",
    "model.add(MaxPooling1D(pool_size=2,strides=2))\n",
    "model.add(Conv1D(filters=36, kernel_size=3, kernel_initializer='glorot_uniform',activation=LeakyReLU(alpha=0.3)))\n",
    "model.add(Dropout(0.5))\n",
    "model.add(Conv1D(filters=144, kernel_size=3,kernel_initializer='glorot_uniform' ,activation=LeakyReLU(alpha=0.3),strides=2))\n",
    "model.add(MaxPooling1D(pool_size=2,strides=2))\n",
    "model.add(Dropout(0.5))\n",
    "\n",
    "model.add(Flatten())\n",
    "model.add(Dense(32, activation='sigmoid'))\n",
    "model.add(Dense(n_classes, activation='sigmoid'))\n",
    "model.summary()\n"
   ]
  },
  {
   "cell_type": "code",
   "execution_count": 30,
   "metadata": {},
   "outputs": [],
   "source": [
    "model.compile(loss='categorical_crossentropy', optimizer='adam', metrics=['accuracy'])"
   ]
  },
  {
   "cell_type": "code",
   "execution_count": 31,
   "metadata": {},
   "outputs": [
    {
     "name": "stdout",
     "output_type": "stream",
     "text": [
      "WARNING:tensorflow:From /Users/bhawesh/anaconda3/lib/python3.7/site-packages/tensorflow/python/ops/math_ops.py:3066: to_int32 (from tensorflow.python.ops.math_ops) is deprecated and will be removed in a future version.\n",
      "Instructions for updating:\n",
      "Use tf.cast instead.\n",
      "Train on 7352 samples, validate on 2947 samples\n",
      "Epoch 1/15\n",
      "7352/7352 [==============================] - 22s 3ms/step - loss: 1.2981 - accuracy: 0.5016 - val_loss: 0.9130 - val_accuracy: 0.6508\n",
      "Epoch 2/15\n",
      "7352/7352 [==============================] - 19s 3ms/step - loss: 0.6765 - accuracy: 0.7889 - val_loss: 0.5744 - val_accuracy: 0.8235\n",
      "Epoch 3/15\n",
      "7352/7352 [==============================] - 18s 2ms/step - loss: 0.4748 - accuracy: 0.8674 - val_loss: 0.5086 - val_accuracy: 0.8181\n",
      "Epoch 4/15\n",
      "7352/7352 [==============================] - 18s 2ms/step - loss: 0.3690 - accuracy: 0.9006 - val_loss: 0.4396 - val_accuracy: 0.8476\n",
      "Epoch 5/15\n",
      "7352/7352 [==============================] - 18s 2ms/step - loss: 0.2896 - accuracy: 0.9192 - val_loss: 0.3617 - val_accuracy: 0.8819\n",
      "Epoch 6/15\n",
      "7352/7352 [==============================] - 18s 2ms/step - loss: 0.2357 - accuracy: 0.9336 - val_loss: 0.3510 - val_accuracy: 0.8758\n",
      "Epoch 7/15\n",
      "7352/7352 [==============================] - 17s 2ms/step - loss: 0.2078 - accuracy: 0.9406 - val_loss: 0.3206 - val_accuracy: 0.8856\n",
      "Epoch 8/15\n",
      "7352/7352 [==============================] - 18s 2ms/step - loss: 0.1901 - accuracy: 0.9421 - val_loss: 0.3095 - val_accuracy: 0.8863\n",
      "Epoch 9/15\n",
      "7352/7352 [==============================] - 17s 2ms/step - loss: 0.1592 - accuracy: 0.9490 - val_loss: 0.3055 - val_accuracy: 0.8924\n",
      "Epoch 10/15\n",
      "7352/7352 [==============================] - 17s 2ms/step - loss: 0.1489 - accuracy: 0.9514 - val_loss: 0.2877 - val_accuracy: 0.9013\n",
      "Epoch 11/15\n",
      "7352/7352 [==============================] - 19s 3ms/step - loss: 0.1508 - accuracy: 0.9501 - val_loss: 0.2989 - val_accuracy: 0.8951\n",
      "Epoch 12/15\n",
      "7352/7352 [==============================] - 18s 2ms/step - loss: 0.1367 - accuracy: 0.9531 - val_loss: 0.2901 - val_accuracy: 0.9006\n",
      "Epoch 13/15\n",
      "7352/7352 [==============================] - 18s 2ms/step - loss: 0.1305 - accuracy: 0.9542 - val_loss: 0.2776 - val_accuracy: 0.9060\n",
      "Epoch 14/15\n",
      "7352/7352 [==============================] - 18s 2ms/step - loss: 0.1270 - accuracy: 0.9546 - val_loss: 0.3109 - val_accuracy: 0.9067\n",
      "Epoch 15/15\n",
      "7352/7352 [==============================] - 18s 2ms/step - loss: 0.1229 - accuracy: 0.9565 - val_loss: 0.2777 - val_accuracy: 0.9033\n"
     ]
    }
   ],
   "source": [
    "history=model.fit(X_train,\n",
    "          Y_train,\n",
    "          batch_size=50,\n",
    "          validation_data=(X_test, Y_test),\n",
    "          epochs=15)"
   ]
  },
  {
   "cell_type": "code",
   "execution_count": 57,
   "metadata": {},
   "outputs": [
    {
     "name": "stdout",
     "output_type": "stream",
     "text": [
      "Train on 7352 samples, validate on 2947 samples\n",
      "Epoch 1/15\n",
      "7352/7352 [==============================] - 26s 4ms/step - loss: 0.1001 - accuracy: 0.9596 - val_loss: 0.3262 - val_accuracy: 0.9077\n",
      "Epoch 2/15\n",
      "7352/7352 [==============================] - 28s 4ms/step - loss: 0.1092 - accuracy: 0.9551 - val_loss: 0.3122 - val_accuracy: 0.9182\n",
      "Epoch 3/15\n",
      "7352/7352 [==============================] - 27s 4ms/step - loss: 0.1011 - accuracy: 0.9554 - val_loss: 0.2787 - val_accuracy: 0.9189\n",
      "Epoch 4/15\n",
      "7352/7352 [==============================] - 26s 4ms/step - loss: 0.1040 - accuracy: 0.9553 - val_loss: 0.3150 - val_accuracy: 0.9148\n",
      "Epoch 5/15\n",
      "7352/7352 [==============================] - 25s 3ms/step - loss: 0.0999 - accuracy: 0.9567 - val_loss: 0.2987 - val_accuracy: 0.9108\n",
      "Epoch 6/15\n",
      "7352/7352 [==============================] - 25s 3ms/step - loss: 0.0891 - accuracy: 0.9608 - val_loss: 0.3206 - val_accuracy: 0.9121\n",
      "Epoch 7/15\n",
      "7352/7352 [==============================] - 28s 4ms/step - loss: 0.1057 - accuracy: 0.9547 - val_loss: 0.2989 - val_accuracy: 0.9162\n",
      "Epoch 8/15\n",
      "7352/7352 [==============================] - 28s 4ms/step - loss: 0.1012 - accuracy: 0.9581 - val_loss: 0.2825 - val_accuracy: 0.9152\n",
      "Epoch 9/15\n",
      "7352/7352 [==============================] - 25s 3ms/step - loss: 0.1013 - accuracy: 0.9561 - val_loss: 0.3459 - val_accuracy: 0.9172\n",
      "Epoch 10/15\n",
      "7352/7352 [==============================] - 28s 4ms/step - loss: 0.0924 - accuracy: 0.9593 - val_loss: 0.3192 - val_accuracy: 0.9080\n",
      "Epoch 11/15\n",
      "7352/7352 [==============================] - 29s 4ms/step - loss: 0.0894 - accuracy: 0.9580 - val_loss: 0.3449 - val_accuracy: 0.9186\n",
      "Epoch 12/15\n",
      "7352/7352 [==============================] - 30s 4ms/step - loss: 0.0971 - accuracy: 0.9567 - val_loss: 0.3526 - val_accuracy: 0.9192\n",
      "Epoch 13/15\n",
      "7352/7352 [==============================] - 30s 4ms/step - loss: 0.0890 - accuracy: 0.9606 - val_loss: 0.3095 - val_accuracy: 0.9206\n",
      "Epoch 14/15\n",
      "7352/7352 [==============================] - 31s 4ms/step - loss: 0.0875 - accuracy: 0.9616 - val_loss: 0.3480 - val_accuracy: 0.9023\n",
      "Epoch 15/15\n",
      "7352/7352 [==============================] - 30s 4ms/step - loss: 0.0897 - accuracy: 0.9606 - val_loss: 0.3954 - val_accuracy: 0.9046\n"
     ]
    }
   ],
   "source": [
    "history=model.fit(X_train,\n",
    "          Y_train,\n",
    "          batch_size=16,\n",
    "          validation_data=(X_test, Y_test),\n",
    "          epochs=15)"
   ]
  },
  {
   "cell_type": "code",
   "execution_count": 249,
   "metadata": {},
   "outputs": [
    {
     "name": "stdout",
     "output_type": "stream",
     "text": [
      "Pred                LAYING  SITTING  STANDING  WALKING  WALKING_DOWNSTAIRS  \\\n",
      "True                                                                         \n",
      "LAYING                 537        0         0        0                   0   \n",
      "SITTING                  6      424        60        0                   0   \n",
      "STANDING                 0      117       415        0                   0   \n",
      "WALKING                  0        0         0      485                   7   \n",
      "WALKING_DOWNSTAIRS       0        0         0        0                 420   \n",
      "WALKING_UPSTAIRS         0        0         0        1                  26   \n",
      "\n",
      "Pred                WALKING_UPSTAIRS  \n",
      "True                                  \n",
      "LAYING                             0  \n",
      "SITTING                            1  \n",
      "STANDING                           0  \n",
      "WALKING                            4  \n",
      "WALKING_DOWNSTAIRS                 0  \n",
      "WALKING_UPSTAIRS                 444  \n"
     ]
    }
   ],
   "source": [
    "print(confusion_matrix(Y_test, model.predict(X_test)))"
   ]
  },
  {
   "cell_type": "code",
   "execution_count": 250,
   "metadata": {},
   "outputs": [
    {
     "name": "stdout",
     "output_type": "stream",
     "text": [
      "2947/2947 [==============================] - 3s 1ms/step\n"
     ]
    }
   ],
   "source": [
    "score = model.evaluate(X_test, Y_test)"
   ]
  },
  {
   "cell_type": "code",
   "execution_count": 251,
   "metadata": {},
   "outputs": [
    {
     "data": {
      "text/plain": [
       "[0.3760031298141544, 0.9246691465377808]"
      ]
     },
     "execution_count": 251,
     "metadata": {},
     "output_type": "execute_result"
    }
   ],
   "source": [
    "score"
   ]
  },
  {
   "cell_type": "markdown",
   "metadata": {},
   "source": [
    "### Divide and Conquor"
   ]
  },
  {
   "cell_type": "code",
   "execution_count": null,
   "metadata": {},
   "outputs": [],
   "source": [
    "#https://scholarcommons.usf.edu/cgi/viewcontent.cgi?article=8755&context=etd"
   ]
  },
  {
   "cell_type": "markdown",
   "metadata": {},
   "source": [
    "### Model for prediction of Static or dynamic"
   ]
  },
  {
   "cell_type": "code",
   "execution_count": 22,
   "metadata": {},
   "outputs": [
    {
     "name": "stdout",
     "output_type": "stream",
     "text": [
      "Model: \"sequential_3\"\n",
      "_________________________________________________________________\n",
      "Layer (type)                 Output Shape              Param #   \n",
      "=================================================================\n",
      "conv1d_5 (Conv1D)            (None, 124, 64)           2944      \n",
      "_________________________________________________________________\n",
      "conv1d_6 (Conv1D)            (None, 122, 32)           6176      \n",
      "_________________________________________________________________\n",
      "dropout_3 (Dropout)          (None, 122, 32)           0         \n",
      "_________________________________________________________________\n",
      "max_pooling1d_4 (MaxPooling1 (None, 40, 32)            0         \n",
      "_________________________________________________________________\n",
      "flatten_2 (Flatten)          (None, 1280)              0         \n",
      "_________________________________________________________________\n",
      "dense_3 (Dense)              (None, 32)                40992     \n",
      "_________________________________________________________________\n",
      "dense_4 (Dense)              (None, 2)                 66        \n",
      "=================================================================\n",
      "Total params: 50,178\n",
      "Trainable params: 50,178\n",
      "Non-trainable params: 0\n",
      "_________________________________________________________________\n"
     ]
    }
   ],
   "source": [
    "model_d = Sequential()\n",
    "model_d.add(Conv1D(filters=64, kernel_size=5, activation='relu',kernel_initializer='lecun_uniform',input_shape=(128,9)))\n",
    "model_d.add(Conv1D(filters=32, kernel_size=3, activation='relu',kernel_initializer='lecun_uniform'))\n",
    "model_d.add(Dropout(0.45))\n",
    "model_d.add(MaxPooling1D(pool_size=3))\n",
    "model_d.add(Flatten())\n",
    "model_d.add(Dense(32, activation='relu'))\n",
    "model_d.add(Dense(2, activation='softmax'))\n",
    "model_d.summary()"
   ]
  },
  {
   "cell_type": "code",
   "execution_count": 23,
   "metadata": {},
   "outputs": [],
   "source": [
    "## Classifying data as 2 class dynamic vs static \n",
    "##data preparation\n",
    "def data_scaled_2class():\n",
    "    # Data directory\n",
    "    DATADIR = 'UCI_HAR_Dataset'\n",
    "    \n",
    "    # Raw data signals\n",
    "    # Signals are from Accelerometer and Gyroscope\n",
    "    # The signals are in x,y,z directions\n",
    "    # Sensor signals are filtered to have only body acceleration\n",
    "    # excluding the acceleration due to gravity\n",
    "    # Triaxial acceleration from the accelerometer is total acceleration\n",
    "    SIGNALS = [\n",
    "        \"body_acc_x\",\n",
    "        \"body_acc_y\",\n",
    "        \"body_acc_z\",\n",
    "        \"body_gyro_x\",\n",
    "        \"body_gyro_y\",\n",
    "        \"body_gyro_z\",\n",
    "        \"total_acc_x\",\n",
    "        \"total_acc_y\",\n",
    "        \"total_acc_z\"\n",
    "        ]\n",
    "        \n",
    "    # Utility function to read the data from csv file\n",
    "    def _read_csv(filename):\n",
    "        return pd.read_csv(filename, delim_whitespace=True, header=None)\n",
    "\n",
    "    # Utility function to load the load\n",
    "    def load_signals(subset):\n",
    "        signals_data = []\n",
    "\n",
    "        for signal in SIGNALS:\n",
    "            filename = f'UCI_HAR_Dataset/{subset}/Inertial Signals/{signal}_{subset}.txt'\n",
    "            signals_data.append( _read_csv(filename).as_matrix()) \n",
    "\n",
    "        # Transpose is used to change the dimensionality of the output,\n",
    "        # aggregating the signals by combination of sample/timestep.\n",
    "        # Resultant shape is (7352 train/2947 test samples, 128 timesteps, 9 signals)\n",
    "        return np.transpose(signals_data, (1, 2, 0))\n",
    "    \n",
    "    def load_y(subset):\n",
    "        \"\"\"\n",
    "        The objective that we are trying to predict is a integer, from 1 to 6,\n",
    "        that represents a human activity. We return a binary representation of \n",
    "        every sample objective as a 6 bits vector using One Hot Encoding\n",
    "        (https://pandas.pydata.org/pandas-docs/stable/generated/pandas.get_dummies.html)\n",
    "        \"\"\"\n",
    "        filename = f'UCI_HAR_Dataset/{subset}/y_{subset}.txt'\n",
    "        y = _read_csv(filename)[0]\n",
    "        for i in range(0,len(y)):\n",
    "            if(y[i]<=3):\n",
    "                y[i] = 0\n",
    "            else:\n",
    "                y[i]=1\n",
    "        return pd.get_dummies(y).as_matrix()\n",
    "    \n",
    "    X_train_2c, X_val_2c = load_signals('train'), load_signals('test')\n",
    "    Y_train_2c, Y_val_2c = load_y('train'), load_y('test')\n",
    "    \n",
    "    return X_train_2c, Y_train_2c, X_val_2c,  Y_val_2c"
   ]
  },
  {
   "cell_type": "code",
   "execution_count": 24,
   "metadata": {},
   "outputs": [
    {
     "name": "stderr",
     "output_type": "stream",
     "text": [
      "/Users/bhawesh/anaconda3/lib/python3.7/site-packages/ipykernel_launcher.py:35: FutureWarning: Method .as_matrix will be removed in a future version. Use .values instead.\n",
      "/Users/bhawesh/anaconda3/lib/python3.7/site-packages/ipykernel_launcher.py:56: FutureWarning: Method .as_matrix will be removed in a future version. Use .values instead.\n"
     ]
    }
   ],
   "source": [
    "X_train_2c, Y_train_2c, X_val_2c,  Y_val_2c = data_scaled_2class()"
   ]
  },
  {
   "cell_type": "code",
   "execution_count": 25,
   "metadata": {},
   "outputs": [
    {
     "name": "stdout",
     "output_type": "stream",
     "text": [
      "(7352, 128, 9)\n",
      "(2947, 2)\n"
     ]
    }
   ],
   "source": [
    "print(X_train_2c.shape)\n",
    "print(Y_val_2c.shape)"
   ]
  },
  {
   "cell_type": "code",
   "execution_count": 202,
   "metadata": {},
   "outputs": [],
   "source": [
    "from keras.callbacks import *\n",
    "filepath=\"epochs:{epoch:03d}-val_acc:{val_accuracy:.3f}.hdf7\"\n",
    "checkpoint_2 = ModelCheckpoint(filepath, monitor='val_accuracy', verbose=1, mode='max')"
   ]
  },
  {
   "cell_type": "code",
   "execution_count": 203,
   "metadata": {},
   "outputs": [],
   "source": [
    "callbacks_list=[checkpoint_2]"
   ]
  },
  {
   "cell_type": "code",
   "execution_count": 204,
   "metadata": {},
   "outputs": [],
   "source": [
    "model_d.compile(loss='categorical_crossentropy', optimizer='adam', metrics=['accuracy'])"
   ]
  },
  {
   "cell_type": "code",
   "execution_count": 205,
   "metadata": {},
   "outputs": [
    {
     "name": "stdout",
     "output_type": "stream",
     "text": [
      "Train on 7352 samples, validate on 2947 samples\n",
      "Epoch 1/20\n",
      "7352/7352 [==============================] - 23s 3ms/step - loss: 0.0246 - accuracy: 0.9895 - val_loss: 0.0512 - val_accuracy: 0.9885\n",
      "\n",
      "Epoch 00001: saving model to epochs:001-val_acc:0.988.hdf7\n",
      "Epoch 2/20\n",
      "7352/7352 [==============================] - 23s 3ms/step - loss: 9.4761e-04 - accuracy: 0.9996 - val_loss: 0.0492 - val_accuracy: 0.9878\n",
      "\n",
      "Epoch 00002: saving model to epochs:002-val_acc:0.988.hdf7\n",
      "Epoch 3/20\n",
      "7352/7352 [==============================] - 22s 3ms/step - loss: 0.0064 - accuracy: 0.9985 - val_loss: 0.0075 - val_accuracy: 0.9976\n",
      "\n",
      "Epoch 00003: saving model to epochs:003-val_acc:0.998.hdf7\n",
      "Epoch 4/20\n",
      "7352/7352 [==============================] - 22s 3ms/step - loss: 8.6226e-04 - accuracy: 0.9997 - val_loss: 0.0025 - val_accuracy: 0.9990\n",
      "\n",
      "Epoch 00004: saving model to epochs:004-val_acc:0.999.hdf7\n",
      "Epoch 5/20\n",
      "7352/7352 [==============================] - 24s 3ms/step - loss: 8.3795e-04 - accuracy: 0.9997 - val_loss: 0.0024 - val_accuracy: 0.9997\n",
      "\n",
      "Epoch 00005: saving model to epochs:005-val_acc:1.000.hdf7\n",
      "Epoch 6/20\n",
      "7352/7352 [==============================] - 21s 3ms/step - loss: 1.5161e-04 - accuracy: 1.0000 - val_loss: 0.0037 - val_accuracy: 0.9990\n",
      "\n",
      "Epoch 00006: saving model to epochs:006-val_acc:0.999.hdf7\n",
      "Epoch 7/20\n",
      "7352/7352 [==============================] - 21s 3ms/step - loss: 1.6798e-05 - accuracy: 1.0000 - val_loss: 0.0063 - val_accuracy: 0.9983\n",
      "\n",
      "Epoch 00007: saving model to epochs:007-val_acc:0.998.hdf7\n",
      "Epoch 8/20\n",
      "7352/7352 [==============================] - 21s 3ms/step - loss: 7.9455e-06 - accuracy: 1.0000 - val_loss: 0.0046 - val_accuracy: 0.9986\n",
      "\n",
      "Epoch 00008: saving model to epochs:008-val_acc:0.999.hdf7\n",
      "Epoch 9/20\n",
      "7352/7352 [==============================] - 21s 3ms/step - loss: 3.7265e-06 - accuracy: 1.0000 - val_loss: 0.0043 - val_accuracy: 0.9986\n",
      "\n",
      "Epoch 00009: saving model to epochs:009-val_acc:0.999.hdf7\n",
      "Epoch 10/20\n",
      "7352/7352 [==============================] - 23s 3ms/step - loss: 3.1222e-06 - accuracy: 1.0000 - val_loss: 0.0039 - val_accuracy: 0.9990\n",
      "\n",
      "Epoch 00010: saving model to epochs:010-val_acc:0.999.hdf7\n",
      "Epoch 11/20\n",
      "7352/7352 [==============================] - 21s 3ms/step - loss: 4.5465e-06 - accuracy: 1.0000 - val_loss: 0.0042 - val_accuracy: 0.9986\n",
      "\n",
      "Epoch 00011: saving model to epochs:011-val_acc:0.999.hdf7\n",
      "Epoch 12/20\n",
      "7352/7352 [==============================] - 21s 3ms/step - loss: 2.7394e-06 - accuracy: 1.0000 - val_loss: 0.0041 - val_accuracy: 0.9986\n",
      "\n",
      "Epoch 00012: saving model to epochs:012-val_acc:0.999.hdf7\n",
      "Epoch 13/20\n",
      "7352/7352 [==============================] - 24s 3ms/step - loss: 1.2381e-06 - accuracy: 1.0000 - val_loss: 0.0044 - val_accuracy: 0.9986\n",
      "\n",
      "Epoch 00013: saving model to epochs:013-val_acc:0.999.hdf7\n",
      "Epoch 14/20\n",
      "7352/7352 [==============================] - 22s 3ms/step - loss: 1.0768e-06 - accuracy: 1.0000 - val_loss: 0.0042 - val_accuracy: 0.9986\n",
      "\n",
      "Epoch 00014: saving model to epochs:014-val_acc:0.999.hdf7\n",
      "Epoch 15/20\n",
      "7352/7352 [==============================] - 22s 3ms/step - loss: 1.1284e-06 - accuracy: 1.0000 - val_loss: 0.0055 - val_accuracy: 0.9986\n",
      "\n",
      "Epoch 00015: saving model to epochs:015-val_acc:0.999.hdf7\n",
      "Epoch 16/20\n",
      "7352/7352 [==============================] - 22s 3ms/step - loss: 1.3785e-06 - accuracy: 1.0000 - val_loss: 0.0051 - val_accuracy: 0.9986\n",
      "\n",
      "Epoch 00016: saving model to epochs:016-val_acc:0.999.hdf7\n",
      "Epoch 17/20\n",
      "7352/7352 [==============================] - 22s 3ms/step - loss: 6.9404e-07 - accuracy: 1.0000 - val_loss: 0.0047 - val_accuracy: 0.9986\n",
      "\n",
      "Epoch 00017: saving model to epochs:017-val_acc:0.999.hdf7\n",
      "Epoch 18/20\n",
      "7352/7352 [==============================] - 22s 3ms/step - loss: 5.4426e-07 - accuracy: 1.0000 - val_loss: 0.0044 - val_accuracy: 0.9986\n",
      "\n",
      "Epoch 00018: saving model to epochs:018-val_acc:0.999.hdf7\n",
      "Epoch 19/20\n",
      "7352/7352 [==============================] - 23s 3ms/step - loss: 4.5994e-07 - accuracy: 1.0000 - val_loss: 0.0043 - val_accuracy: 0.9986\n",
      "\n",
      "Epoch 00019: saving model to epochs:019-val_acc:0.999.hdf7\n",
      "Epoch 20/20\n",
      "7352/7352 [==============================] - 23s 3ms/step - loss: 3.5206e-07 - accuracy: 1.0000 - val_loss: 0.0040 - val_accuracy: 0.9990\n",
      "\n",
      "Epoch 00020: saving model to epochs:020-val_acc:0.999.hdf7\n"
     ]
    },
    {
     "data": {
      "text/plain": [
       "<keras.callbacks.callbacks.History at 0x1a6989cb00>"
      ]
     },
     "execution_count": 205,
     "metadata": {},
     "output_type": "execute_result"
    }
   ],
   "source": [
    "model_d.fit(X_train_2c,Y_train_2c, epochs=20, batch_size=16,validation_data=(X_val_2c, Y_val_2c),\n",
    "            verbose=1,callbacks=callbacks_list)"
   ]
  },
  {
   "cell_type": "code",
   "execution_count": 22,
   "metadata": {},
   "outputs": [
    {
     "name": "stdout",
     "output_type": "stream",
     "text": [
      "WARNING:tensorflow:From /Users/bhawesh/anaconda3/lib/python3.7/site-packages/tensorflow/python/ops/math_ops.py:3066: to_int32 (from tensorflow.python.ops.math_ops) is deprecated and will be removed in a future version.\n",
      "Instructions for updating:\n",
      "Use tf.cast instead.\n"
     ]
    }
   ],
   "source": [
    "best_model_division = load_model('epochs:009-val_acc:0.999.hdf7')"
   ]
  },
  {
   "cell_type": "code",
   "execution_count": 3,
   "metadata": {},
   "outputs": [],
   "source": [
    "# Data directory\n",
    "DATADIR = 'UCI_HAR_Dataset'"
   ]
  },
  {
   "cell_type": "code",
   "execution_count": 4,
   "metadata": {},
   "outputs": [],
   "source": [
    "# Raw data signals\n",
    "# Signals are from Accelerometer and Gyroscope\n",
    "# The signals are in x,y,z directions\n",
    "# Sensor signals are filtered to have only body acceleration\n",
    "# excluding the acceleration due to gravity\n",
    "# Triaxial acceleration from the accelerometer is total acceleration\n",
    "SIGNALS = [\n",
    "    \"body_acc_x\",\n",
    "    \"body_acc_y\",\n",
    "    \"body_acc_z\",\n",
    "    \"body_gyro_x\",\n",
    "    \"body_gyro_y\",\n",
    "    \"body_gyro_z\",\n",
    "    \"total_acc_x\",\n",
    "    \"total_acc_y\",\n",
    "    \"total_acc_z\"\n",
    "]"
   ]
  },
  {
   "cell_type": "code",
   "execution_count": 5,
   "metadata": {},
   "outputs": [],
   "source": [
    "# Utility function to read the data from csv file\n",
    "def _read_csv(filename):\n",
    "    return pd.read_csv(filename, delim_whitespace=True, header=None)\n",
    "\n",
    "# Utility function to load the load\n",
    "def load_signals(subset):\n",
    "    signals_data = []\n",
    "\n",
    "    for signal in SIGNALS:\n",
    "        filename = f'UCI_HAR_Dataset/{subset}/Inertial Signals/{signal}_{subset}.txt'\n",
    "        signals_data.append(\n",
    "            _read_csv(filename).as_matrix()\n",
    "        ) \n",
    "\n",
    "    # Transpose is used to change the dimensionality of the output,\n",
    "    # aggregating the signals by combination of sample/timestep.\n",
    "    # Resultant shape is (7352 train/2947 test samples, 128 timesteps, 9 signals)\n",
    "    return np.transpose(signals_data, (1, 2, 0))"
   ]
  },
  {
   "cell_type": "code",
   "execution_count": 6,
   "metadata": {},
   "outputs": [],
   "source": [
    "\n",
    "def load_y(subset):\n",
    "    \"\"\"\n",
    "    The objective that we are trying to predict is a integer, from 1 to 6,\n",
    "    that represents a human activity. We return a binary representation of \n",
    "    every sample objective as a 6 bits vector using One Hot Encoding\n",
    "    (https://pandas.pydata.org/pandas-docs/stable/generated/pandas.get_dummies.html)\n",
    "    \"\"\"\n",
    "    filename = f'UCI_HAR_Dataset/{subset}/y_{subset}.txt'\n",
    "    y = _read_csv(filename)[0]\n",
    "\n",
    "    return pd.get_dummies(y).as_matrix()"
   ]
  },
  {
   "cell_type": "code",
   "execution_count": 7,
   "metadata": {},
   "outputs": [],
   "source": [
    "def load_data():\n",
    "    \"\"\"\n",
    "    Obtain the dataset from multiple files.\n",
    "    Returns: X_train, X_test, y_train, y_test\n",
    "    \"\"\"\n",
    "    X_train, X_test = load_signals('train'), load_signals('test')\n",
    "    y_train, y_test = load_y('train'), load_y('test')\n",
    "\n",
    "    return X_train, X_test, y_train, y_test"
   ]
  },
  {
   "cell_type": "code",
   "execution_count": 10,
   "metadata": {},
   "outputs": [
    {
     "name": "stderr",
     "output_type": "stream",
     "text": [
      "/Users/bhawesh/anaconda3/lib/python3.7/site-packages/tensorflow/python/framework/dtypes.py:526: FutureWarning: Passing (type, 1) or '1type' as a synonym of type is deprecated; in a future version of numpy, it will be understood as (type, (1,)) / '(1,)type'.\n",
      "  _np_qint8 = np.dtype([(\"qint8\", np.int8, 1)])\n",
      "/Users/bhawesh/anaconda3/lib/python3.7/site-packages/tensorflow/python/framework/dtypes.py:527: FutureWarning: Passing (type, 1) or '1type' as a synonym of type is deprecated; in a future version of numpy, it will be understood as (type, (1,)) / '(1,)type'.\n",
      "  _np_quint8 = np.dtype([(\"quint8\", np.uint8, 1)])\n",
      "/Users/bhawesh/anaconda3/lib/python3.7/site-packages/tensorflow/python/framework/dtypes.py:528: FutureWarning: Passing (type, 1) or '1type' as a synonym of type is deprecated; in a future version of numpy, it will be understood as (type, (1,)) / '(1,)type'.\n",
      "  _np_qint16 = np.dtype([(\"qint16\", np.int16, 1)])\n",
      "/Users/bhawesh/anaconda3/lib/python3.7/site-packages/tensorflow/python/framework/dtypes.py:529: FutureWarning: Passing (type, 1) or '1type' as a synonym of type is deprecated; in a future version of numpy, it will be understood as (type, (1,)) / '(1,)type'.\n",
      "  _np_quint16 = np.dtype([(\"quint16\", np.uint16, 1)])\n",
      "/Users/bhawesh/anaconda3/lib/python3.7/site-packages/tensorflow/python/framework/dtypes.py:530: FutureWarning: Passing (type, 1) or '1type' as a synonym of type is deprecated; in a future version of numpy, it will be understood as (type, (1,)) / '(1,)type'.\n",
      "  _np_qint32 = np.dtype([(\"qint32\", np.int32, 1)])\n",
      "/Users/bhawesh/anaconda3/lib/python3.7/site-packages/tensorflow/python/framework/dtypes.py:535: FutureWarning: Passing (type, 1) or '1type' as a synonym of type is deprecated; in a future version of numpy, it will be understood as (type, (1,)) / '(1,)type'.\n",
      "  np_resource = np.dtype([(\"resource\", np.ubyte, 1)])\n"
     ]
    }
   ],
   "source": [
    "# Importing tensorflow\n",
    "np.random.seed(42)\n",
    "import tensorflow as tf\n",
    "tf.set_random_seed(42)"
   ]
  },
  {
   "cell_type": "code",
   "execution_count": 11,
   "metadata": {},
   "outputs": [],
   "source": [
    "# Configuring a session\n",
    "session_conf = tf.ConfigProto(\n",
    "    intra_op_parallelism_threads=1,\n",
    "    inter_op_parallelism_threads=1\n",
    ")"
   ]
  },
  {
   "cell_type": "code",
   "execution_count": 12,
   "metadata": {},
   "outputs": [],
   "source": [
    "# Import Keras\n",
    "import os\n",
    "os.environ['KMP_DUPLICATE_LIB_OK']='True'\n",
    "from tensorflow.keras import backend as K\n",
    "sess = tf.Session(graph=tf.get_default_graph(), config=session_conf)\n",
    "K.set_session(sess)"
   ]
  },
  {
   "cell_type": "code",
   "execution_count": 21,
   "metadata": {},
   "outputs": [],
   "source": [
    "# Importing libraries\n",
    "from keras.models import Sequential\n",
    "from keras.layers import LSTM\n",
    "from keras.layers.core import Dense, Dropout\n",
    "from keras.models import Model, load_model"
   ]
  },
  {
   "cell_type": "code",
   "execution_count": 14,
   "metadata": {},
   "outputs": [],
   "source": [
    "# Initializing parameters\n",
    "epochs = 30\n",
    "batch_size = 16\n",
    "n_hidden = 64"
   ]
  },
  {
   "cell_type": "code",
   "execution_count": 15,
   "metadata": {},
   "outputs": [],
   "source": [
    "# Utility function to count the number of classes\n",
    "def _count_classes(y):\n",
    "    return len(set([tuple(category) for category in y]))"
   ]
  },
  {
   "cell_type": "code",
   "execution_count": 16,
   "metadata": {},
   "outputs": [
    {
     "name": "stderr",
     "output_type": "stream",
     "text": [
      "/Users/bhawesh/anaconda3/lib/python3.7/site-packages/ipykernel_launcher.py:12: FutureWarning: Method .as_matrix will be removed in a future version. Use .values instead.\n",
      "  if sys.path[0] == '':\n",
      "/Users/bhawesh/anaconda3/lib/python3.7/site-packages/ipykernel_launcher.py:11: FutureWarning: Method .as_matrix will be removed in a future version. Use .values instead.\n",
      "  # This is added back by InteractiveShellApp.init_path()\n"
     ]
    }
   ],
   "source": [
    "# Loading the train and test data\n",
    "X_train, X_test, Y_train, Y_test = load_data()"
   ]
  },
  {
   "cell_type": "code",
   "execution_count": 17,
   "metadata": {},
   "outputs": [
    {
     "name": "stdout",
     "output_type": "stream",
     "text": [
      "128\n",
      "9\n",
      "7352\n"
     ]
    }
   ],
   "source": [
    "timesteps = len(X_train[0])\n",
    "input_dim = len(X_train[0][0])\n",
    "n_classes = _count_classes(Y_train)\n",
    "\n",
    "print(timesteps)\n",
    "print(input_dim)\n",
    "print(len(X_train))"
   ]
  },
  {
   "cell_type": "code",
   "execution_count": 18,
   "metadata": {},
   "outputs": [
    {
     "data": {
      "text/plain": [
       "(128, 9)"
      ]
     },
     "execution_count": 18,
     "metadata": {},
     "output_type": "execute_result"
    }
   ],
   "source": [
    "X_train[0].shape"
   ]
  },
  {
   "cell_type": "code",
   "execution_count": 34,
   "metadata": {},
   "outputs": [
    {
     "name": "stderr",
     "output_type": "stream",
     "text": [
      "/Users/bhawesh/anaconda3/lib/python3.7/site-packages/keras/activations.py:235: UserWarning: Do not pass a layer instance (such as LeakyReLU) as the activation argument of another layer. Instead, advanced activation layers should be used just like any other layer in a model.\n",
      "  identifier=identifier.__class__.__name__))\n"
     ]
    },
    {
     "name": "stdout",
     "output_type": "stream",
     "text": [
      "Model: \"sequential_3\"\n",
      "_________________________________________________________________\n",
      "Layer (type)                 Output Shape              Param #   \n",
      "=================================================================\n",
      "conv1d_1 (Conv1D)            (None, 128, 18)           180       \n",
      "_________________________________________________________________\n",
      "max_pooling1d_1 (MaxPooling1 (None, 64, 18)            0         \n",
      "_________________________________________________________________\n",
      "conv1d_2 (Conv1D)            (None, 62, 36)            1980      \n",
      "_________________________________________________________________\n",
      "dropout_3 (Dropout)          (None, 62, 36)            0         \n",
      "_________________________________________________________________\n",
      "conv1d_3 (Conv1D)            (None, 30, 144)           15696     \n",
      "_________________________________________________________________\n",
      "max_pooling1d_2 (MaxPooling1 (None, 15, 144)           0         \n",
      "_________________________________________________________________\n",
      "dropout_4 (Dropout)          (None, 15, 144)           0         \n",
      "_________________________________________________________________\n",
      "flatten_1 (Flatten)          (None, 2160)              0         \n",
      "_________________________________________________________________\n",
      "dense_2 (Dense)              (None, 32)                69152     \n",
      "_________________________________________________________________\n",
      "dense_3 (Dense)              (None, 3)                 99        \n",
      "=================================================================\n",
      "Total params: 87,107\n",
      "Trainable params: 87,107\n",
      "Non-trainable params: 0\n",
      "_________________________________________________________________\n"
     ]
    }
   ],
   "source": [
    "from keras.layers.convolutional import Conv1D\n",
    "from keras.layers.convolutional import MaxPooling1D\n",
    "from keras.layers import Dense, Activation, Flatten\n",
    "from keras.layers import LeakyReLU\n",
    "model1 = Sequential()\n",
    "model1.add(Conv1D(filters=18,kernel_size=1, activation=LeakyReLU(alpha=0.3)\n",
    "                 , input_shape=(timesteps,input_dim),kernel_initializer='he_uniform'))\n",
    "model1.add(MaxPooling1D(pool_size=2))\n",
    "model1.add(Conv1D(filters=36, kernel_size=3,kernel_initializer='he_uniform' ,activation=LeakyReLU(alpha=0.3)))\n",
    "model1.add(Dropout(0.5))\n",
    "model1.add(Conv1D(filters=144, kernel_size=3,kernel_initializer='he_uniform' ,activation=LeakyReLU(alpha=0.3),strides=2))\n",
    "model1.add(MaxPooling1D(pool_size=2,strides=2))\n",
    "model1.add(Dropout(0.5))\n",
    "\n",
    "model1.add(Flatten())\n",
    "model1.add(Dense(32, activation='relu'))\n",
    "model1.add(Dense(3, activation='sigmoid'))\n",
    "model1.summary()"
   ]
  },
  {
   "cell_type": "code",
   "execution_count": 44,
   "metadata": {},
   "outputs": [
    {
     "name": "stdout",
     "output_type": "stream",
     "text": [
      "Model: \"sequential_5\"\n",
      "_________________________________________________________________\n",
      "Layer (type)                 Output Shape              Param #   \n",
      "=================================================================\n",
      "conv1d_6 (Conv1D)            (None, 124, 64)           2944      \n",
      "_________________________________________________________________\n",
      "conv1d_7 (Conv1D)            (None, 122, 32)           6176      \n",
      "_________________________________________________________________\n",
      "dropout_6 (Dropout)          (None, 122, 32)           0         \n",
      "_________________________________________________________________\n",
      "max_pooling1d_4 (MaxPooling1 (None, 40, 32)            0         \n",
      "_________________________________________________________________\n",
      "flatten_3 (Flatten)          (None, 1280)              0         \n",
      "_________________________________________________________________\n",
      "dense_6 (Dense)              (None, 32)                40992     \n",
      "_________________________________________________________________\n",
      "dense_7 (Dense)              (None, 3)                 99        \n",
      "=================================================================\n",
      "Total params: 50,211\n",
      "Trainable params: 50,211\n",
      "Non-trainable params: 0\n",
      "_________________________________________________________________\n"
     ]
    }
   ],
   "source": [
    "model1 = Sequential()\n",
    "model1.add(Conv1D(filters=64, kernel_size=5, activation='relu',kernel_initializer='lecun_uniform',input_shape=(128,9)))\n",
    "model1.add(Conv1D(filters=32, kernel_size=3, activation='relu',kernel_initializer='lecun_uniform'))\n",
    "model1.add(Dropout(0.45))\n",
    "model1.add(MaxPooling1D(pool_size=3))\n",
    "model1.add(Flatten())\n",
    "model1.add(Dense(32, activation='relu'))\n",
    "model1.add(Dense(3, activation='softmax'))\n",
    "model1.summary()"
   ]
  },
  {
   "cell_type": "code",
   "execution_count": 23,
   "metadata": {},
   "outputs": [],
   "source": [
    "Y_pred_train=best_model_division.predict(X_train)\n",
    "Y_pred_test=best_model_division.predict(X_test)"
   ]
  },
  {
   "cell_type": "code",
   "execution_count": 25,
   "metadata": {},
   "outputs": [],
   "source": [
    "Y_pred_train =  np.argmax(Y_pred_train, axis=1)\n",
    "Y_pred_test =  np.argmax(Y_pred_test, axis=1)"
   ]
  },
  {
   "cell_type": "code",
   "execution_count": 26,
   "metadata": {},
   "outputs": [],
   "source": [
    "Y_static_tr=Y_train[Y_pred_train==1]\n",
    "Y_dynamic_tr=Y_train[Y_pred_train==0]\n",
    "Y_static_test=Y_test[Y_pred_test==1]\n",
    "Y_dynamic_test=Y_test[Y_pred_test==0]"
   ]
  },
  {
   "cell_type": "code",
   "execution_count": 39,
   "metadata": {},
   "outputs": [],
   "source": [
    "Y_dynamic_tr=Y_dynamic_tr[0:len(Y_dynamic_tr),0:3]\n",
    "Y_dynamic_test=Y_dynamic_test[0:len(Y_dynamic_test),0:3]\n",
    "Y_static_tr=Y_static_tr[0:len(Y_static_tr),3:6]\n",
    "Y_static_test=Y_static_test[0:len(Y_static_test),3:6]"
   ]
  },
  {
   "cell_type": "code",
   "execution_count": 28,
   "metadata": {},
   "outputs": [],
   "source": [
    "X_static_tr=X_train[Y_pred_train==1]\n",
    "X_dynamic_tr=X_train[Y_pred_train==0]\n",
    "X_static_test=X_test[Y_pred_test==1]\n",
    "X_dynamic_test=X_test[Y_pred_test==0]"
   ]
  },
  {
   "cell_type": "code",
   "execution_count": null,
   "metadata": {},
   "outputs": [],
   "source": []
  },
  {
   "cell_type": "code",
   "execution_count": 29,
   "metadata": {},
   "outputs": [],
   "source": [
    "from keras.callbacks import *\n",
    "filepath=\"epochs:{epoch:03d}-val_acc:{val_accuracy:.3f}.hdf5\"\n",
    "checkpoint_2 = ModelCheckpoint(filepath, monitor='val_accuracy', verbose=1, mode='max')"
   ]
  },
  {
   "cell_type": "code",
   "execution_count": 30,
   "metadata": {},
   "outputs": [],
   "source": [
    "callbacks_list = [checkpoint_2]"
   ]
  },
  {
   "cell_type": "code",
   "execution_count": 45,
   "metadata": {},
   "outputs": [],
   "source": [
    "model1.compile(loss='categorical_crossentropy', optimizer='adam', metrics=['accuracy'])"
   ]
  },
  {
   "cell_type": "code",
   "execution_count": 46,
   "metadata": {
    "scrolled": false
   },
   "outputs": [
    {
     "name": "stdout",
     "output_type": "stream",
     "text": [
      "Train on 3285 samples, validate on 1391 samples\n",
      "Epoch 1/20\n",
      "3285/3285 [==============================] - 12s 4ms/step - loss: 0.4729 - accuracy: 0.7988 - val_loss: 0.3071 - val_accuracy: 0.9037\n",
      "\n",
      "Epoch 00001: saving model to epochs:001-val_acc:0.904.hdf5\n",
      "Epoch 2/20\n",
      "3285/3285 [==============================] - 10s 3ms/step - loss: 0.0362 - accuracy: 0.9903 - val_loss: 0.2010 - val_accuracy: 0.9303\n",
      "\n",
      "Epoch 00002: saving model to epochs:002-val_acc:0.930.hdf5\n",
      "Epoch 3/20\n",
      "3285/3285 [==============================] - 10s 3ms/step - loss: 0.0157 - accuracy: 0.9954 - val_loss: 0.3736 - val_accuracy: 0.8778\n",
      "\n",
      "Epoch 00003: saving model to epochs:003-val_acc:0.878.hdf5\n",
      "Epoch 4/20\n",
      "3285/3285 [==============================] - 10s 3ms/step - loss: 0.0099 - accuracy: 0.9976 - val_loss: 0.1543 - val_accuracy: 0.9490\n",
      "\n",
      "Epoch 00004: saving model to epochs:004-val_acc:0.949.hdf5\n",
      "Epoch 5/20\n",
      "3285/3285 [==============================] - 10s 3ms/step - loss: 9.9896e-04 - accuracy: 1.0000 - val_loss: 0.1406 - val_accuracy: 0.9561\n",
      "\n",
      "Epoch 00005: saving model to epochs:005-val_acc:0.956.hdf5\n",
      "Epoch 6/20\n",
      "3285/3285 [==============================] - 10s 3ms/step - loss: 5.9479e-04 - accuracy: 1.0000 - val_loss: 0.1455 - val_accuracy: 0.9547\n",
      "\n",
      "Epoch 00006: saving model to epochs:006-val_acc:0.955.hdf5\n",
      "Epoch 7/20\n",
      "3285/3285 [==============================] - 10s 3ms/step - loss: 4.6674e-04 - accuracy: 1.0000 - val_loss: 0.1500 - val_accuracy: 0.9547\n",
      "\n",
      "Epoch 00007: saving model to epochs:007-val_acc:0.955.hdf5\n",
      "Epoch 8/20\n",
      "3285/3285 [==============================] - 10s 3ms/step - loss: 2.3807e-04 - accuracy: 1.0000 - val_loss: 0.1495 - val_accuracy: 0.9540\n",
      "\n",
      "Epoch 00008: saving model to epochs:008-val_acc:0.954.hdf5\n",
      "Epoch 9/20\n",
      "3285/3285 [==============================] - 10s 3ms/step - loss: 0.0012 - accuracy: 1.0000 - val_loss: 0.1095 - val_accuracy: 0.9648\n",
      "\n",
      "Epoch 00009: saving model to epochs:009-val_acc:0.965.hdf5\n",
      "Epoch 10/20\n",
      "3285/3285 [==============================] - 11s 3ms/step - loss: 2.1861e-04 - accuracy: 1.0000 - val_loss: 0.1404 - val_accuracy: 0.9590\n",
      "\n",
      "Epoch 00010: saving model to epochs:010-val_acc:0.959.hdf5\n",
      "Epoch 11/20\n",
      "3285/3285 [==============================] - 11s 3ms/step - loss: 2.1276e-04 - accuracy: 1.0000 - val_loss: 0.1587 - val_accuracy: 0.9569\n",
      "\n",
      "Epoch 00011: saving model to epochs:011-val_acc:0.957.hdf5\n",
      "Epoch 12/20\n",
      "3285/3285 [==============================] - 11s 3ms/step - loss: 1.3620e-04 - accuracy: 1.0000 - val_loss: 0.1735 - val_accuracy: 0.9554\n",
      "\n",
      "Epoch 00012: saving model to epochs:012-val_acc:0.955.hdf5\n",
      "Epoch 13/20\n",
      "3285/3285 [==============================] - 11s 3ms/step - loss: 9.3560e-05 - accuracy: 1.0000 - val_loss: 0.1607 - val_accuracy: 0.9605\n",
      "\n",
      "Epoch 00013: saving model to epochs:013-val_acc:0.960.hdf5\n",
      "Epoch 14/20\n",
      "3285/3285 [==============================] - 11s 3ms/step - loss: 0.0064 - accuracy: 0.9985 - val_loss: 0.4949 - val_accuracy: 0.8914\n",
      "\n",
      "Epoch 00014: saving model to epochs:014-val_acc:0.891.hdf5\n",
      "Epoch 15/20\n",
      "3285/3285 [==============================] - 10s 3ms/step - loss: 0.0280 - accuracy: 0.9924 - val_loss: 0.3351 - val_accuracy: 0.9281\n",
      "\n",
      "Epoch 00015: saving model to epochs:015-val_acc:0.928.hdf5\n",
      "Epoch 16/20\n",
      "3285/3285 [==============================] - 11s 3ms/step - loss: 0.0040 - accuracy: 0.9997 - val_loss: 0.2164 - val_accuracy: 0.9475\n",
      "\n",
      "Epoch 00016: saving model to epochs:016-val_acc:0.948.hdf5\n",
      "Epoch 17/20\n",
      "3285/3285 [==============================] - 11s 3ms/step - loss: 8.2682e-04 - accuracy: 1.0000 - val_loss: 0.1670 - val_accuracy: 0.9590\n",
      "\n",
      "Epoch 00017: saving model to epochs:017-val_acc:0.959.hdf5\n",
      "Epoch 18/20\n",
      "3285/3285 [==============================] - 11s 3ms/step - loss: 1.4110e-04 - accuracy: 1.0000 - val_loss: 0.1244 - val_accuracy: 0.9641\n",
      "\n",
      "Epoch 00018: saving model to epochs:018-val_acc:0.964.hdf5\n",
      "Epoch 19/20\n",
      "3285/3285 [==============================] - 10s 3ms/step - loss: 1.0327e-04 - accuracy: 1.0000 - val_loss: 0.1471 - val_accuracy: 0.9633\n",
      "\n",
      "Epoch 00019: saving model to epochs:019-val_acc:0.963.hdf5\n",
      "Epoch 20/20\n",
      "3285/3285 [==============================] - 11s 3ms/step - loss: 4.7334e-05 - accuracy: 1.0000 - val_loss: 0.1413 - val_accuracy: 0.9648\n",
      "\n",
      "Epoch 00020: saving model to epochs:020-val_acc:0.965.hdf5\n"
     ]
    }
   ],
   "source": [
    "history=model1.fit(X_dynamic_tr,\n",
    "          Y_dynamic_tr,\n",
    "          batch_size=20,\n",
    "          validation_data=(X_dynamic_test, Y_dynamic_test),\n",
    "          epochs=20,callbacks=callbacks_list)"
   ]
  },
  {
   "cell_type": "code",
   "execution_count": 47,
   "metadata": {},
   "outputs": [],
   "source": [
    "best_model_d = load_model('epochs:020-val_acc:0.965.hdf5')"
   ]
  },
  {
   "cell_type": "code",
   "execution_count": 48,
   "metadata": {},
   "outputs": [],
   "source": [
    "# Activities are the class labels\n",
    "# It is a 6 class classification\n",
    "ACTIVITIES = {\n",
    "    0: 'WALKING',\n",
    "    1: 'WALKING_UPSTAIRS',\n",
    "    2: 'WALKING_DOWNSTAIRS',\n",
    "}\n",
    "\n",
    "# Utility function to print the confusion matrix\n",
    "def confusion_matrix(Y_true, Y_pred):\n",
    "    Y_true = pd.Series([ACTIVITIES[y] for y in np.argmax(Y_true, axis=1)])\n",
    "    Y_pred = pd.Series([ACTIVITIES[y] for y in np.argmax(Y_pred, axis=1)])\n",
    "\n",
    "    return pd.crosstab(Y_true, Y_pred, rownames=['True'], colnames=['Pred'])"
   ]
  },
  {
   "cell_type": "code",
   "execution_count": 51,
   "metadata": {},
   "outputs": [
    {
     "name": "stdout",
     "output_type": "stream",
     "text": [
      "Pred                WALKING  WALKING_DOWNSTAIRS  WALKING_UPSTAIRS\n",
      "True                                                             \n",
      "WALKING                 478                  18                 4\n",
      "WALKING_DOWNSTAIRS        2                 418                 0\n",
      "WALKING_UPSTAIRS          1                  24               446\n"
     ]
    }
   ],
   "source": [
    "print(confusion_matrix(Y_dynamic_test, best_model_d.predict(X_dynamic_test)))"
   ]
  },
  {
   "cell_type": "code",
   "execution_count": 55,
   "metadata": {},
   "outputs": [
    {
     "name": "stdout",
     "output_type": "stream",
     "text": [
      "1391/1391 [==============================] - 2s 1ms/step\n"
     ]
    }
   ],
   "source": [
    "score = best_model_d.evaluate(X_dynamic_test, Y_dynamic_test)"
   ]
  },
  {
   "cell_type": "code",
   "execution_count": 56,
   "metadata": {},
   "outputs": [
    {
     "data": {
      "text/plain": [
       "[0.1413168757945732, 0.9647735357284546]"
      ]
     },
     "execution_count": 56,
     "metadata": {},
     "output_type": "execute_result"
    }
   ],
   "source": [
    "score"
   ]
  },
  {
   "cell_type": "markdown",
   "metadata": {},
   "source": [
    "### Static"
   ]
  },
  {
   "cell_type": "code",
   "execution_count": 90,
   "metadata": {},
   "outputs": [],
   "source": [
    "Y_train_static=Y_train_static[0:len(Y_train_static),3:6]\n",
    "Y_test_static=Y_test_static[0:len(Y_test_static),3:6]"
   ]
  },
  {
   "cell_type": "code",
   "execution_count": 19,
   "metadata": {},
   "outputs": [
    {
     "name": "stdout",
     "output_type": "stream",
     "text": [
      "WARNING:tensorflow:From /Users/bhawesh/anaconda3/lib/python3.7/site-packages/tensorflow/python/ops/resource_variable_ops.py:435: colocate_with (from tensorflow.python.framework.ops) is deprecated and will be removed in a future version.\n",
      "Instructions for updating:\n",
      "Colocations handled automatically by placer.\n"
     ]
    },
    {
     "name": "stderr",
     "output_type": "stream",
     "text": [
      "/Users/bhawesh/anaconda3/lib/python3.7/site-packages/keras/activations.py:235: UserWarning: Do not pass a layer instance (such as LeakyReLU) as the activation argument of another layer. Instead, advanced activation layers should be used just like any other layer in a model.\n",
      "  identifier=identifier.__class__.__name__))\n"
     ]
    },
    {
     "name": "stdout",
     "output_type": "stream",
     "text": [
      "Model: \"sequential_2\"\n",
      "_________________________________________________________________\n",
      "Layer (type)                 Output Shape              Param #   \n",
      "=================================================================\n",
      "conv1d_1 (Conv1D)            (None, 128, 18)           180       \n",
      "_________________________________________________________________\n",
      "max_pooling1d_1 (MaxPooling1 (None, 64, 18)            0         \n",
      "_________________________________________________________________\n",
      "conv1d_2 (Conv1D)            (None, 62, 36)            1980      \n",
      "_________________________________________________________________\n",
      "dropout_1 (Dropout)          (None, 62, 36)            0         \n",
      "_________________________________________________________________\n",
      "conv1d_3 (Conv1D)            (None, 30, 144)           15696     \n",
      "_________________________________________________________________\n",
      "max_pooling1d_2 (MaxPooling1 (None, 15, 144)           0         \n",
      "_________________________________________________________________\n",
      "dropout_2 (Dropout)          (None, 15, 144)           0         \n",
      "_________________________________________________________________\n",
      "flatten_1 (Flatten)          (None, 2160)              0         \n",
      "_________________________________________________________________\n",
      "dense_1 (Dense)              (None, 32)                69152     \n",
      "_________________________________________________________________\n",
      "dense_2 (Dense)              (None, 3)                 99        \n",
      "=================================================================\n",
      "Total params: 87,107\n",
      "Trainable params: 87,107\n",
      "Non-trainable params: 0\n",
      "_________________________________________________________________\n"
     ]
    }
   ],
   "source": [
    "from keras.layers.convolutional import Conv1D\n",
    "from keras.layers.convolutional import MaxPooling1D\n",
    "from keras.layers import Dense, Activation, Flatten\n",
    "from keras.layers import LeakyReLU\n",
    "model = Sequential()\n",
    "model.add(Conv1D(filters=18,kernel_size=1, activation=LeakyReLU(alpha=0.3)\n",
    "                 , input_shape=(timesteps,input_dim),kernel_initializer='glorot_uniform'))\n",
    "model.add(MaxPooling1D(pool_size=2))\n",
    "model.add(Conv1D(filters=36, kernel_size=3,kernel_initializer='glorot_uniform' ,activation=LeakyReLU(alpha=0.3)))\n",
    "model.add(Dropout(0.5))\n",
    "model.add(Conv1D(filters=144, kernel_size=3,kernel_initializer='glorot_uniform' ,activation=LeakyReLU(alpha=0.3),strides=2))\n",
    "model.add(MaxPooling1D(pool_size=2,strides=2))\n",
    "model.add(Dropout(0.5))\n",
    "\n",
    "model.add(Flatten())\n",
    "model.add(Dense(32, activation='relu'))\n",
    "model.add(Dense(3, activation='sigmoid'))\n",
    "model.summary()"
   ]
  },
  {
   "cell_type": "code",
   "execution_count": 167,
   "metadata": {},
   "outputs": [],
   "source": [
    "model.compile(loss='categorical_crossentropy', optimizer='adam', metrics=['accuracy'])"
   ]
  },
  {
   "cell_type": "code",
   "execution_count": 67,
   "metadata": {},
   "outputs": [
    {
     "name": "stdout",
     "output_type": "stream",
     "text": [
      "Train on 4067 samples, validate on 1560 samples\n",
      "Epoch 1/15\n",
      "4067/4067 [==============================] - 16s 4ms/step - loss: 0.3267 - accuracy: 0.8439 - val_loss: 0.3313 - val_accuracy: 0.8577\n",
      "Epoch 2/15\n",
      "4067/4067 [==============================] - 13s 3ms/step - loss: 0.2088 - accuracy: 0.9085 - val_loss: 0.4369 - val_accuracy: 0.8327\n",
      "Epoch 3/15\n",
      "4067/4067 [==============================] - 13s 3ms/step - loss: 0.2031 - accuracy: 0.9112 - val_loss: 0.3389 - val_accuracy: 0.8885\n",
      "Epoch 4/15\n",
      "4067/4067 [==============================] - 13s 3ms/step - loss: 0.1989 - accuracy: 0.9090 - val_loss: 0.3526 - val_accuracy: 0.8679\n",
      "Epoch 5/15\n",
      "4067/4067 [==============================] - 13s 3ms/step - loss: 0.1902 - accuracy: 0.9157 - val_loss: 0.3836 - val_accuracy: 0.8744\n",
      "Epoch 6/15\n",
      "4067/4067 [==============================] - 13s 3ms/step - loss: 0.1905 - accuracy: 0.9216 - val_loss: 0.3504 - val_accuracy: 0.8891\n",
      "Epoch 7/15\n",
      "4067/4067 [==============================] - 13s 3ms/step - loss: 0.1869 - accuracy: 0.9181 - val_loss: 0.3327 - val_accuracy: 0.8782\n",
      "Epoch 8/15\n",
      "4067/4067 [==============================] - 13s 3ms/step - loss: 0.1853 - accuracy: 0.9240 - val_loss: 0.3239 - val_accuracy: 0.8853\n",
      "Epoch 9/15\n",
      "4067/4067 [==============================] - 13s 3ms/step - loss: 0.1922 - accuracy: 0.9191 - val_loss: 0.3431 - val_accuracy: 0.8769\n",
      "Epoch 10/15\n",
      "4067/4067 [==============================] - 13s 3ms/step - loss: 0.1870 - accuracy: 0.9216 - val_loss: 0.3342 - val_accuracy: 0.8814\n",
      "Epoch 11/15\n",
      "4067/4067 [==============================] - 13s 3ms/step - loss: 0.1805 - accuracy: 0.9225 - val_loss: 0.3906 - val_accuracy: 0.8885\n",
      "Epoch 12/15\n",
      "4067/4067 [==============================] - 13s 3ms/step - loss: 0.1771 - accuracy: 0.9245 - val_loss: 0.3355 - val_accuracy: 0.8872\n",
      "Epoch 13/15\n",
      "4067/4067 [==============================] - 13s 3ms/step - loss: 0.1991 - accuracy: 0.9191 - val_loss: 0.3002 - val_accuracy: 0.8885\n",
      "Epoch 14/15\n",
      "4067/4067 [==============================] - 13s 3ms/step - loss: 0.1796 - accuracy: 0.9240 - val_loss: 0.3527 - val_accuracy: 0.8936\n",
      "Epoch 15/15\n",
      "4067/4067 [==============================] - 13s 3ms/step - loss: 0.1747 - accuracy: 0.9250 - val_loss: 0.3506 - val_accuracy: 0.8878\n"
     ]
    }
   ],
   "source": [
    "history=model.fit(X_static_tr,\n",
    "          Y_train_static,\n",
    "          batch_size=300,\n",
    "          validation_data=(X_static_test, Y_static_test),\n",
    "          epochs=15)"
   ]
  },
  {
   "cell_type": "code",
   "execution_count": 57,
   "metadata": {},
   "outputs": [
    {
     "name": "stdout",
     "output_type": "stream",
     "text": [
      "Model: \"sequential_6\"\n",
      "_________________________________________________________________\n",
      "Layer (type)                 Output Shape              Param #   \n",
      "=================================================================\n",
      "conv1d_8 (Conv1D)            (None, 124, 64)           2944      \n",
      "_________________________________________________________________\n",
      "conv1d_9 (Conv1D)            (None, 122, 32)           6176      \n",
      "_________________________________________________________________\n",
      "dropout_7 (Dropout)          (None, 122, 32)           0         \n",
      "_________________________________________________________________\n",
      "max_pooling1d_5 (MaxPooling1 (None, 40, 32)            0         \n",
      "_________________________________________________________________\n",
      "flatten_4 (Flatten)          (None, 1280)              0         \n",
      "_________________________________________________________________\n",
      "dense_8 (Dense)              (None, 32)                40992     \n",
      "_________________________________________________________________\n",
      "dense_9 (Dense)              (None, 3)                 99        \n",
      "=================================================================\n",
      "Total params: 50,211\n",
      "Trainable params: 50,211\n",
      "Non-trainable params: 0\n",
      "_________________________________________________________________\n"
     ]
    }
   ],
   "source": [
    "model = Sequential()\n",
    "model.add(Conv1D(filters=64, kernel_size=5, activation='relu',kernel_initializer='glorot_uniform',input_shape=(128,9)))\n",
    "model.add(Conv1D(filters=32, kernel_size=3, activation='relu',kernel_initializer='glorot_uniform'))\n",
    "model.add(Dropout(0.45))\n",
    "model.add(MaxPooling1D(pool_size=3))\n",
    "model.add(Flatten())\n",
    "model.add(Dense(32, activation='relu'))\n",
    "model.add(Dense(3, activation='softmax'))\n",
    "model.summary()"
   ]
  },
  {
   "cell_type": "code",
   "execution_count": 60,
   "metadata": {},
   "outputs": [],
   "source": [
    "from keras.callbacks import *\n",
    "filepath=\"epochs:{epoch:03d}-val_acc:{val_accuracy:.3f}.hdf6\"\n",
    "checkpoint_2 = ModelCheckpoint(filepath, monitor='val_accuracy', verbose=1, mode='max')"
   ]
  },
  {
   "cell_type": "code",
   "execution_count": 61,
   "metadata": {},
   "outputs": [],
   "source": [
    "callbacks_list = [checkpoint_2]"
   ]
  },
  {
   "cell_type": "code",
   "execution_count": 62,
   "metadata": {},
   "outputs": [],
   "source": [
    "model.compile(loss='categorical_crossentropy', optimizer='adam', metrics=['accuracy'])"
   ]
  },
  {
   "cell_type": "code",
   "execution_count": 64,
   "metadata": {},
   "outputs": [
    {
     "name": "stdout",
     "output_type": "stream",
     "text": [
      "Train on 4067 samples, validate on 1556 samples\n",
      "Epoch 1/15\n",
      "4067/4067 [==============================] - 12s 3ms/step - loss: 0.2928 - accuracy: 0.8866 - val_loss: 0.3406 - val_accuracy: 0.8599\n",
      "\n",
      "Epoch 00001: saving model to epochs:001-val_acc:0.860.hdf6\n",
      "Epoch 2/15\n",
      "4067/4067 [==============================] - 10s 3ms/step - loss: 0.2238 - accuracy: 0.9036 - val_loss: 0.3242 - val_accuracy: 0.8683\n",
      "\n",
      "Epoch 00002: saving model to epochs:002-val_acc:0.868.hdf6\n",
      "Epoch 3/15\n",
      "4067/4067 [==============================] - 10s 2ms/step - loss: 0.1978 - accuracy: 0.9157 - val_loss: 0.3095 - val_accuracy: 0.8817\n",
      "\n",
      "Epoch 00003: saving model to epochs:003-val_acc:0.882.hdf6\n",
      "Epoch 4/15\n",
      "4067/4067 [==============================] - 10s 2ms/step - loss: 0.1867 - accuracy: 0.9186 - val_loss: 0.3133 - val_accuracy: 0.8760\n",
      "\n",
      "Epoch 00004: saving model to epochs:004-val_acc:0.876.hdf6\n",
      "Epoch 5/15\n",
      "4067/4067 [==============================] - 11s 3ms/step - loss: 0.1792 - accuracy: 0.9213 - val_loss: 0.3005 - val_accuracy: 0.8721\n",
      "\n",
      "Epoch 00005: saving model to epochs:005-val_acc:0.872.hdf6\n",
      "Epoch 6/15\n",
      "4067/4067 [==============================] - 10s 3ms/step - loss: 0.1724 - accuracy: 0.9223 - val_loss: 0.3236 - val_accuracy: 0.8702\n",
      "\n",
      "Epoch 00006: saving model to epochs:006-val_acc:0.870.hdf6\n",
      "Epoch 7/15\n",
      "4067/4067 [==============================] - 11s 3ms/step - loss: 0.1789 - accuracy: 0.9203 - val_loss: 0.3563 - val_accuracy: 0.8650\n",
      "\n",
      "Epoch 00007: saving model to epochs:007-val_acc:0.865.hdf6\n",
      "Epoch 8/15\n",
      "4067/4067 [==============================] - 10s 3ms/step - loss: 0.1664 - accuracy: 0.9255 - val_loss: 0.3095 - val_accuracy: 0.8856\n",
      "\n",
      "Epoch 00008: saving model to epochs:008-val_acc:0.886.hdf6\n",
      "Epoch 9/15\n",
      "4067/4067 [==============================] - 11s 3ms/step - loss: 0.1650 - accuracy: 0.9250 - val_loss: 0.3105 - val_accuracy: 0.8798\n",
      "\n",
      "Epoch 00009: saving model to epochs:009-val_acc:0.880.hdf6\n",
      "Epoch 10/15\n",
      "4067/4067 [==============================] - 11s 3ms/step - loss: 0.1556 - accuracy: 0.9294 - val_loss: 0.3306 - val_accuracy: 0.8933\n",
      "\n",
      "Epoch 00010: saving model to epochs:010-val_acc:0.893.hdf6\n",
      "Epoch 11/15\n",
      "4067/4067 [==============================] - 10s 2ms/step - loss: 0.1358 - accuracy: 0.9368 - val_loss: 0.3567 - val_accuracy: 0.8843\n",
      "\n",
      "Epoch 00011: saving model to epochs:011-val_acc:0.884.hdf6\n",
      "Epoch 12/15\n",
      "4067/4067 [==============================] - 10s 2ms/step - loss: 0.1270 - accuracy: 0.9400 - val_loss: 0.3717 - val_accuracy: 0.8753\n",
      "\n",
      "Epoch 00012: saving model to epochs:012-val_acc:0.875.hdf6\n",
      "Epoch 13/15\n",
      "4067/4067 [==============================] - 10s 2ms/step - loss: 0.1259 - accuracy: 0.9412 - val_loss: 0.3280 - val_accuracy: 0.9055\n",
      "\n",
      "Epoch 00013: saving model to epochs:013-val_acc:0.906.hdf6\n",
      "Epoch 14/15\n",
      "4067/4067 [==============================] - 10s 2ms/step - loss: 0.1185 - accuracy: 0.9454 - val_loss: 0.3891 - val_accuracy: 0.8946\n",
      "\n",
      "Epoch 00014: saving model to epochs:014-val_acc:0.895.hdf6\n",
      "Epoch 15/15\n",
      "4067/4067 [==============================] - 10s 2ms/step - loss: 0.1066 - accuracy: 0.9498 - val_loss: 0.3448 - val_accuracy: 0.8901\n",
      "\n",
      "Epoch 00015: saving model to epochs:015-val_acc:0.890.hdf6\n"
     ]
    }
   ],
   "source": [
    "history=model.fit(X_static_tr,\n",
    "          Y_static_tr,\n",
    "          batch_size=50,\n",
    "          validation_data=(X_static_test, Y_static_test),\n",
    "          epochs=15,callbacks=callbacks_list)"
   ]
  },
  {
   "cell_type": "code",
   "execution_count": 65,
   "metadata": {},
   "outputs": [
    {
     "name": "stdout",
     "output_type": "stream",
     "text": [
      "Train on 4067 samples, validate on 1556 samples\n",
      "Epoch 1/15\n",
      "4067/4067 [==============================] - 10s 2ms/step - loss: 0.1106 - accuracy: 0.9503 - val_loss: 0.3441 - val_accuracy: 0.8959\n",
      "\n",
      "Epoch 00001: saving model to epochs:001-val_acc:0.896.hdf6\n",
      "Epoch 2/15\n",
      "4067/4067 [==============================] - 9s 2ms/step - loss: 0.1069 - accuracy: 0.9489 - val_loss: 0.3390 - val_accuracy: 0.9042\n",
      "\n",
      "Epoch 00002: saving model to epochs:002-val_acc:0.904.hdf6\n",
      "Epoch 3/15\n",
      "4067/4067 [==============================] - 10s 3ms/step - loss: 0.0985 - accuracy: 0.9550 - val_loss: 0.4258 - val_accuracy: 0.8888\n",
      "\n",
      "Epoch 00003: saving model to epochs:003-val_acc:0.889.hdf6\n",
      "Epoch 4/15\n",
      "4067/4067 [==============================] - 10s 3ms/step - loss: 0.0901 - accuracy: 0.9607 - val_loss: 0.4983 - val_accuracy: 0.8830\n",
      "\n",
      "Epoch 00004: saving model to epochs:004-val_acc:0.883.hdf6\n",
      "Epoch 5/15\n",
      "4067/4067 [==============================] - 10s 2ms/step - loss: 0.0913 - accuracy: 0.9594 - val_loss: 0.5533 - val_accuracy: 0.8772\n",
      "\n",
      "Epoch 00005: saving model to epochs:005-val_acc:0.877.hdf6\n",
      "Epoch 6/15\n",
      "4067/4067 [==============================] - 10s 2ms/step - loss: 0.0892 - accuracy: 0.9597 - val_loss: 0.3399 - val_accuracy: 0.8914\n",
      "\n",
      "Epoch 00006: saving model to epochs:006-val_acc:0.891.hdf6\n",
      "Epoch 7/15\n",
      "4067/4067 [==============================] - 9s 2ms/step - loss: 0.1008 - accuracy: 0.9567 - val_loss: 0.3362 - val_accuracy: 0.8869\n",
      "\n",
      "Epoch 00007: saving model to epochs:007-val_acc:0.887.hdf6\n",
      "Epoch 8/15\n",
      "4067/4067 [==============================] - 9s 2ms/step - loss: 0.1028 - accuracy: 0.9584 - val_loss: 0.2660 - val_accuracy: 0.9165\n",
      "\n",
      "Epoch 00008: saving model to epochs:008-val_acc:0.916.hdf6\n",
      "Epoch 9/15\n",
      "4067/4067 [==============================] - 9s 2ms/step - loss: 0.0864 - accuracy: 0.9639 - val_loss: 0.3291 - val_accuracy: 0.8997\n",
      "\n",
      "Epoch 00009: saving model to epochs:009-val_acc:0.900.hdf6\n",
      "Epoch 10/15\n",
      "4067/4067 [==============================] - 9s 2ms/step - loss: 0.0781 - accuracy: 0.9626 - val_loss: 0.3717 - val_accuracy: 0.8817\n",
      "\n",
      "Epoch 00010: saving model to epochs:010-val_acc:0.882.hdf6\n",
      "Epoch 11/15\n",
      "4067/4067 [==============================] - 9s 2ms/step - loss: 0.0808 - accuracy: 0.9639 - val_loss: 0.3663 - val_accuracy: 0.9049\n",
      "\n",
      "Epoch 00011: saving model to epochs:011-val_acc:0.905.hdf6\n",
      "Epoch 12/15\n",
      "4067/4067 [==============================] - 9s 2ms/step - loss: 0.0657 - accuracy: 0.9705 - val_loss: 0.3521 - val_accuracy: 0.9023\n",
      "\n",
      "Epoch 00012: saving model to epochs:012-val_acc:0.902.hdf6\n",
      "Epoch 13/15\n",
      "4067/4067 [==============================] - 10s 3ms/step - loss: 0.0725 - accuracy: 0.9693 - val_loss: 0.3425 - val_accuracy: 0.8850\n",
      "\n",
      "Epoch 00013: saving model to epochs:013-val_acc:0.885.hdf6\n",
      "Epoch 14/15\n",
      "4067/4067 [==============================] - 10s 3ms/step - loss: 0.1182 - accuracy: 0.9498 - val_loss: 0.3595 - val_accuracy: 0.9120\n",
      "\n",
      "Epoch 00014: saving model to epochs:014-val_acc:0.912.hdf6\n",
      "Epoch 15/15\n",
      "4067/4067 [==============================] - 9s 2ms/step - loss: 0.0676 - accuracy: 0.9678 - val_loss: 0.3424 - val_accuracy: 0.9049\n",
      "\n",
      "Epoch 00015: saving model to epochs:015-val_acc:0.905.hdf6\n"
     ]
    }
   ],
   "source": [
    "history=model.fit(X_static_tr,\n",
    "          Y_static_tr,\n",
    "          batch_size=50,\n",
    "          validation_data=(X_static_test, Y_static_test),\n",
    "          epochs=15,callbacks=callbacks_list)"
   ]
  },
  {
   "cell_type": "code",
   "execution_count": 66,
   "metadata": {},
   "outputs": [
    {
     "name": "stdout",
     "output_type": "stream",
     "text": [
      "Train on 4067 samples, validate on 1556 samples\n",
      "Epoch 1/15\n",
      "4067/4067 [==============================] - 13s 3ms/step - loss: 0.1032 - accuracy: 0.9584 - val_loss: 0.3711 - val_accuracy: 0.8843\n",
      "\n",
      "Epoch 00001: saving model to epochs:001-val_acc:0.884.hdf6\n",
      "Epoch 2/15\n",
      "4067/4067 [==============================] - 13s 3ms/step - loss: 0.1028 - accuracy: 0.9584 - val_loss: 0.3037 - val_accuracy: 0.9132\n",
      "\n",
      "Epoch 00002: saving model to epochs:002-val_acc:0.913.hdf6\n",
      "Epoch 3/15\n",
      "4067/4067 [==============================] - 13s 3ms/step - loss: 0.1246 - accuracy: 0.9530 - val_loss: 0.2716 - val_accuracy: 0.9017\n",
      "\n",
      "Epoch 00003: saving model to epochs:003-val_acc:0.902.hdf6\n",
      "Epoch 4/15\n",
      "4067/4067 [==============================] - 13s 3ms/step - loss: 0.0846 - accuracy: 0.9614 - val_loss: 0.2659 - val_accuracy: 0.9068\n",
      "\n",
      "Epoch 00004: saving model to epochs:004-val_acc:0.907.hdf6\n",
      "Epoch 5/15\n",
      "4067/4067 [==============================] - 13s 3ms/step - loss: 0.0705 - accuracy: 0.9678 - val_loss: 0.3229 - val_accuracy: 0.9120\n",
      "\n",
      "Epoch 00005: saving model to epochs:005-val_acc:0.912.hdf6\n",
      "Epoch 6/15\n",
      "4067/4067 [==============================] - 13s 3ms/step - loss: 0.0748 - accuracy: 0.9641 - val_loss: 0.2726 - val_accuracy: 0.9177\n",
      "\n",
      "Epoch 00006: saving model to epochs:006-val_acc:0.918.hdf6\n",
      "Epoch 7/15\n",
      "4067/4067 [==============================] - 13s 3ms/step - loss: 0.0721 - accuracy: 0.9658 - val_loss: 0.2923 - val_accuracy: 0.9216\n",
      "\n",
      "Epoch 00007: saving model to epochs:007-val_acc:0.922.hdf6\n",
      "Epoch 8/15\n",
      "4067/4067 [==============================] - 13s 3ms/step - loss: 0.0724 - accuracy: 0.9666 - val_loss: 0.3132 - val_accuracy: 0.9203\n",
      "\n",
      "Epoch 00008: saving model to epochs:008-val_acc:0.920.hdf6\n",
      "Epoch 9/15\n",
      "4067/4067 [==============================] - 14s 3ms/step - loss: 0.0699 - accuracy: 0.9690 - val_loss: 0.3696 - val_accuracy: 0.9036\n",
      "\n",
      "Epoch 00009: saving model to epochs:009-val_acc:0.904.hdf6\n",
      "Epoch 10/15\n",
      "4067/4067 [==============================] - 11s 3ms/step - loss: 0.0708 - accuracy: 0.9700 - val_loss: 0.3251 - val_accuracy: 0.9222\n",
      "\n",
      "Epoch 00010: saving model to epochs:010-val_acc:0.922.hdf6\n",
      "Epoch 11/15\n",
      "4067/4067 [==============================] - 12s 3ms/step - loss: 0.0657 - accuracy: 0.9734 - val_loss: 0.3887 - val_accuracy: 0.9036\n",
      "\n",
      "Epoch 00011: saving model to epochs:011-val_acc:0.904.hdf6\n",
      "Epoch 12/15\n",
      "4067/4067 [==============================] - 14s 3ms/step - loss: 0.0735 - accuracy: 0.9715 - val_loss: 0.3849 - val_accuracy: 0.9100\n",
      "\n",
      "Epoch 00012: saving model to epochs:012-val_acc:0.910.hdf6\n",
      "Epoch 13/15\n",
      "4067/4067 [==============================] - 13s 3ms/step - loss: 0.0754 - accuracy: 0.9661 - val_loss: 0.3262 - val_accuracy: 0.9229\n",
      "\n",
      "Epoch 00013: saving model to epochs:013-val_acc:0.923.hdf6\n",
      "Epoch 14/15\n",
      "4067/4067 [==============================] - 14s 3ms/step - loss: 0.0610 - accuracy: 0.9739 - val_loss: 0.3206 - val_accuracy: 0.9242\n",
      "\n",
      "Epoch 00014: saving model to epochs:014-val_acc:0.924.hdf6\n",
      "Epoch 15/15\n",
      "4067/4067 [==============================] - 13s 3ms/step - loss: 0.0586 - accuracy: 0.9747 - val_loss: 0.3893 - val_accuracy: 0.9023\n",
      "\n",
      "Epoch 00015: saving model to epochs:015-val_acc:0.902.hdf6\n"
     ]
    }
   ],
   "source": [
    "history=model.fit(X_static_tr,\n",
    "          Y_static_tr,\n",
    "          batch_size=20,\n",
    "          validation_data=(X_static_test, Y_static_test),\n",
    "          epochs=15,callbacks=callbacks_list)"
   ]
  },
  {
   "cell_type": "code",
   "execution_count": 68,
   "metadata": {},
   "outputs": [
    {
     "name": "stdout",
     "output_type": "stream",
     "text": [
      "Train on 4067 samples, validate on 1556 samples\n",
      "Epoch 1/15\n",
      "4067/4067 [==============================] - 13s 3ms/step - loss: 0.0540 - accuracy: 0.9766 - val_loss: 0.3624 - val_accuracy: 0.9235\n",
      "\n",
      "Epoch 00001: saving model to epochs:001-val_acc:0.924.hdf6\n",
      "Epoch 2/15\n",
      "4067/4067 [==============================] - 10s 3ms/step - loss: 0.0595 - accuracy: 0.9739 - val_loss: 0.3420 - val_accuracy: 0.9171\n",
      "\n",
      "Epoch 00002: saving model to epochs:002-val_acc:0.917.hdf6\n",
      "Epoch 3/15\n",
      "4067/4067 [==============================] - 14s 3ms/step - loss: 0.0528 - accuracy: 0.9779 - val_loss: 0.4323 - val_accuracy: 0.9242\n",
      "\n",
      "Epoch 00003: saving model to epochs:003-val_acc:0.924.hdf6\n",
      "Epoch 4/15\n",
      "4067/4067 [==============================] - 13s 3ms/step - loss: 0.0537 - accuracy: 0.9779 - val_loss: 0.4035 - val_accuracy: 0.9120\n",
      "\n",
      "Epoch 00004: saving model to epochs:004-val_acc:0.912.hdf6\n",
      "Epoch 5/15\n",
      "4067/4067 [==============================] - 13s 3ms/step - loss: 0.0551 - accuracy: 0.9754 - val_loss: 0.4302 - val_accuracy: 0.9100\n",
      "\n",
      "Epoch 00005: saving model to epochs:005-val_acc:0.910.hdf6\n",
      "Epoch 6/15\n",
      "4067/4067 [==============================] - 13s 3ms/step - loss: 0.0513 - accuracy: 0.9779 - val_loss: 0.4064 - val_accuracy: 0.9190\n",
      "\n",
      "Epoch 00006: saving model to epochs:006-val_acc:0.919.hdf6\n",
      "Epoch 7/15\n",
      "4067/4067 [==============================] - 11s 3ms/step - loss: 0.0413 - accuracy: 0.9823 - val_loss: 0.4155 - val_accuracy: 0.9254\n",
      "\n",
      "Epoch 00007: saving model to epochs:007-val_acc:0.925.hdf6\n",
      "Epoch 8/15\n",
      "4067/4067 [==============================] - 11s 3ms/step - loss: 0.0417 - accuracy: 0.9808 - val_loss: 0.3827 - val_accuracy: 0.9210\n",
      "\n",
      "Epoch 00008: saving model to epochs:008-val_acc:0.921.hdf6\n",
      "Epoch 9/15\n",
      "4067/4067 [==============================] - 13s 3ms/step - loss: 0.0435 - accuracy: 0.9830 - val_loss: 0.3935 - val_accuracy: 0.9229\n",
      "\n",
      "Epoch 00009: saving model to epochs:009-val_acc:0.923.hdf6\n",
      "Epoch 10/15\n",
      "4067/4067 [==============================] - 14s 3ms/step - loss: 0.0418 - accuracy: 0.9825 - val_loss: 0.3929 - val_accuracy: 0.9171\n",
      "\n",
      "Epoch 00010: saving model to epochs:010-val_acc:0.917.hdf6\n",
      "Epoch 11/15\n",
      "4067/4067 [==============================] - 13s 3ms/step - loss: 0.0433 - accuracy: 0.9816 - val_loss: 0.3933 - val_accuracy: 0.9299\n",
      "\n",
      "Epoch 00011: saving model to epochs:011-val_acc:0.930.hdf6\n",
      "Epoch 12/15\n",
      "4067/4067 [==============================] - 13s 3ms/step - loss: 0.0447 - accuracy: 0.9823 - val_loss: 0.4470 - val_accuracy: 0.9094\n",
      "\n",
      "Epoch 00012: saving model to epochs:012-val_acc:0.909.hdf6\n",
      "Epoch 13/15\n",
      "4067/4067 [==============================] - 13s 3ms/step - loss: 0.0473 - accuracy: 0.9821 - val_loss: 0.6168 - val_accuracy: 0.9132\n",
      "\n",
      "Epoch 00013: saving model to epochs:013-val_acc:0.913.hdf6\n",
      "Epoch 14/15\n",
      "4067/4067 [==============================] - 13s 3ms/step - loss: 0.0486 - accuracy: 0.9818 - val_loss: 0.7143 - val_accuracy: 0.8965\n",
      "\n",
      "Epoch 00014: saving model to epochs:014-val_acc:0.897.hdf6\n",
      "Epoch 15/15\n",
      "4067/4067 [==============================] - 14s 3ms/step - loss: 0.0355 - accuracy: 0.9850 - val_loss: 0.6869 - val_accuracy: 0.9087\n",
      "\n",
      "Epoch 00015: saving model to epochs:015-val_acc:0.909.hdf6\n"
     ]
    }
   ],
   "source": [
    "history=model.fit(X_static_tr,\n",
    "          Y_static_tr,\n",
    "          batch_size=20,\n",
    "          validation_data=(X_static_test, Y_static_test),\n",
    "          epochs=15,callbacks=callbacks_list)"
   ]
  },
  {
   "cell_type": "code",
   "execution_count": 70,
   "metadata": {},
   "outputs": [
    {
     "name": "stdout",
     "output_type": "stream",
     "text": [
      "Train on 4067 samples, validate on 1556 samples\n",
      "Epoch 1/15\n",
      "4067/4067 [==============================] - 14s 3ms/step - loss: 0.0449 - accuracy: 0.9838 - val_loss: 0.6696 - val_accuracy: 0.9055\n",
      "\n",
      "Epoch 00001: saving model to epochs:001-val_acc:0.906.hdf6\n",
      "Epoch 2/15\n",
      "4067/4067 [==============================] - 14s 3ms/step - loss: 0.0650 - accuracy: 0.9828 - val_loss: 0.6728 - val_accuracy: 0.9030\n",
      "\n",
      "Epoch 00002: saving model to epochs:002-val_acc:0.903.hdf6\n",
      "Epoch 3/15\n",
      "4067/4067 [==============================] - 13s 3ms/step - loss: 0.1393 - accuracy: 0.9717 - val_loss: 0.7011 - val_accuracy: 0.8972\n",
      "\n",
      "Epoch 00003: saving model to epochs:003-val_acc:0.897.hdf6\n",
      "Epoch 4/15\n",
      "4067/4067 [==============================] - 12s 3ms/step - loss: 0.1116 - accuracy: 0.9796 - val_loss: 0.7002 - val_accuracy: 0.9100\n",
      "\n",
      "Epoch 00004: saving model to epochs:004-val_acc:0.910.hdf6\n",
      "Epoch 5/15\n",
      "4067/4067 [==============================] - 12s 3ms/step - loss: 0.1032 - accuracy: 0.9830 - val_loss: 0.6342 - val_accuracy: 0.9139\n",
      "\n",
      "Epoch 00005: saving model to epochs:005-val_acc:0.914.hdf6\n",
      "Epoch 6/15\n",
      "4067/4067 [==============================] - 14s 4ms/step - loss: 0.0980 - accuracy: 0.9840 - val_loss: 0.7298 - val_accuracy: 0.9049\n",
      "\n",
      "Epoch 00006: saving model to epochs:006-val_acc:0.905.hdf6\n",
      "Epoch 7/15\n",
      "4067/4067 [==============================] - 14s 4ms/step - loss: 0.0976 - accuracy: 0.9840 - val_loss: 0.6854 - val_accuracy: 0.9055\n",
      "\n",
      "Epoch 00007: saving model to epochs:007-val_acc:0.906.hdf6\n",
      "Epoch 8/15\n",
      "4067/4067 [==============================] - 14s 4ms/step - loss: 0.1008 - accuracy: 0.9816 - val_loss: 0.6970 - val_accuracy: 0.8991\n",
      "\n",
      "Epoch 00008: saving model to epochs:008-val_acc:0.899.hdf6\n",
      "Epoch 9/15\n",
      "4067/4067 [==============================] - 14s 3ms/step - loss: 0.0918 - accuracy: 0.9867 - val_loss: 0.7512 - val_accuracy: 0.9017\n",
      "\n",
      "Epoch 00009: saving model to epochs:009-val_acc:0.902.hdf6\n",
      "Epoch 10/15\n",
      "4067/4067 [==============================] - 15s 4ms/step - loss: 0.1010 - accuracy: 0.9828 - val_loss: 0.6946 - val_accuracy: 0.9030\n",
      "\n",
      "Epoch 00010: saving model to epochs:010-val_acc:0.903.hdf6\n",
      "Epoch 11/15\n",
      "4067/4067 [==============================] - 14s 4ms/step - loss: 0.1076 - accuracy: 0.9835 - val_loss: 0.7945 - val_accuracy: 0.8940\n",
      "\n",
      "Epoch 00011: saving model to epochs:011-val_acc:0.894.hdf6\n",
      "Epoch 12/15\n",
      "4067/4067 [==============================] - 14s 3ms/step - loss: 0.0966 - accuracy: 0.9838 - val_loss: 0.7454 - val_accuracy: 0.9132\n",
      "\n",
      "Epoch 00012: saving model to epochs:012-val_acc:0.913.hdf6\n",
      "Epoch 13/15\n",
      "4067/4067 [==============================] - 14s 3ms/step - loss: 0.0928 - accuracy: 0.9862 - val_loss: 0.7262 - val_accuracy: 0.8997\n",
      "\n",
      "Epoch 00013: saving model to epochs:013-val_acc:0.900.hdf6\n",
      "Epoch 14/15\n",
      "4067/4067 [==============================] - 14s 3ms/step - loss: 0.1073 - accuracy: 0.9816 - val_loss: 0.7007 - val_accuracy: 0.9094\n",
      "\n",
      "Epoch 00014: saving model to epochs:014-val_acc:0.909.hdf6\n",
      "Epoch 15/15\n",
      "4067/4067 [==============================] - 14s 3ms/step - loss: 0.0928 - accuracy: 0.9860 - val_loss: 0.6904 - val_accuracy: 0.9100\n",
      "\n",
      "Epoch 00015: saving model to epochs:015-val_acc:0.910.hdf6\n"
     ]
    }
   ],
   "source": [
    "history=model.fit(X_static_tr,\n",
    "          Y_static_tr,\n",
    "          batch_size=16,\n",
    "          validation_data=(X_static_test, Y_static_test),\n",
    "          epochs=15,callbacks=callbacks_list)"
   ]
  },
  {
   "cell_type": "code",
   "execution_count": 73,
   "metadata": {},
   "outputs": [
    {
     "name": "stdout",
     "output_type": "stream",
     "text": [
      "Train on 4067 samples, validate on 1556 samples\n",
      "Epoch 1/15\n",
      "4067/4067 [==============================] - 12s 3ms/step - loss: 0.0773 - accuracy: 0.9921 - val_loss: 0.7688 - val_accuracy: 0.9177\n",
      "\n",
      "Epoch 00001: saving model to epochs:001-val_acc:0.918.hdf6\n",
      "Epoch 2/15\n",
      "4067/4067 [==============================] - 11s 3ms/step - loss: 0.0753 - accuracy: 0.9934 - val_loss: 0.7692 - val_accuracy: 0.9139\n",
      "\n",
      "Epoch 00002: saving model to epochs:002-val_acc:0.914.hdf6\n",
      "Epoch 3/15\n",
      "4067/4067 [==============================] - 11s 3ms/step - loss: 0.0744 - accuracy: 0.9931 - val_loss: 0.7468 - val_accuracy: 0.9107\n",
      "\n",
      "Epoch 00003: saving model to epochs:003-val_acc:0.911.hdf6\n",
      "Epoch 4/15\n",
      "4067/4067 [==============================] - 13s 3ms/step - loss: 0.0796 - accuracy: 0.9904 - val_loss: 0.7810 - val_accuracy: 0.9126\n",
      "\n",
      "Epoch 00004: saving model to epochs:004-val_acc:0.913.hdf6\n",
      "Epoch 5/15\n",
      "4067/4067 [==============================] - 14s 3ms/step - loss: 0.0826 - accuracy: 0.9914 - val_loss: 0.7787 - val_accuracy: 0.9152\n",
      "\n",
      "Epoch 00005: saving model to epochs:005-val_acc:0.915.hdf6\n",
      "Epoch 6/15\n",
      "4067/4067 [==============================] - 13s 3ms/step - loss: 0.0841 - accuracy: 0.9882 - val_loss: 0.7761 - val_accuracy: 0.9132\n",
      "\n",
      "Epoch 00006: saving model to epochs:006-val_acc:0.913.hdf6\n",
      "Epoch 7/15\n",
      "4067/4067 [==============================] - 14s 3ms/step - loss: 0.0704 - accuracy: 0.9956 - val_loss: 0.8016 - val_accuracy: 0.9120\n",
      "\n",
      "Epoch 00007: saving model to epochs:007-val_acc:0.912.hdf6\n",
      "Epoch 8/15\n",
      "4067/4067 [==============================] - 13s 3ms/step - loss: 0.0706 - accuracy: 0.9951 - val_loss: 0.7982 - val_accuracy: 0.9145\n",
      "\n",
      "Epoch 00008: saving model to epochs:008-val_acc:0.915.hdf6\n",
      "Epoch 9/15\n",
      "4067/4067 [==============================] - 13s 3ms/step - loss: 0.0889 - accuracy: 0.9907 - val_loss: 0.7980 - val_accuracy: 0.9087\n",
      "\n",
      "Epoch 00009: saving model to epochs:009-val_acc:0.909.hdf6\n",
      "Epoch 10/15\n",
      "4067/4067 [==============================] - 14s 3ms/step - loss: 0.0861 - accuracy: 0.9909 - val_loss: 0.8433 - val_accuracy: 0.9126\n",
      "\n",
      "Epoch 00010: saving model to epochs:010-val_acc:0.913.hdf6\n",
      "Epoch 11/15\n",
      "4067/4067 [==============================] - 13s 3ms/step - loss: 0.0757 - accuracy: 0.9916 - val_loss: 0.7659 - val_accuracy: 0.9094\n",
      "\n",
      "Epoch 00011: saving model to epochs:011-val_acc:0.909.hdf6\n",
      "Epoch 12/15\n",
      "4067/4067 [==============================] - 14s 3ms/step - loss: 0.0669 - accuracy: 0.9953 - val_loss: 0.8215 - val_accuracy: 0.9126\n",
      "\n",
      "Epoch 00012: saving model to epochs:012-val_acc:0.913.hdf6\n",
      "Epoch 13/15\n",
      "4067/4067 [==============================] - 14s 3ms/step - loss: 0.1012 - accuracy: 0.9872 - val_loss: 0.7749 - val_accuracy: 0.9062\n",
      "\n",
      "Epoch 00013: saving model to epochs:013-val_acc:0.906.hdf6\n",
      "Epoch 14/15\n",
      "4067/4067 [==============================] - 13s 3ms/step - loss: 0.1057 - accuracy: 0.9798 - val_loss: 0.7737 - val_accuracy: 0.9152\n",
      "\n",
      "Epoch 00014: saving model to epochs:014-val_acc:0.915.hdf6\n",
      "Epoch 15/15\n",
      "4067/4067 [==============================] - 14s 3ms/step - loss: 0.0675 - accuracy: 0.9943 - val_loss: 0.8425 - val_accuracy: 0.9010\n",
      "\n",
      "Epoch 00015: saving model to epochs:015-val_acc:0.901.hdf6\n"
     ]
    }
   ],
   "source": [
    "history=model.fit(X_static_tr,\n",
    "          Y_static_tr,\n",
    "          batch_size=20,\n",
    "          validation_data=(X_static_test, Y_static_test),\n",
    "          epochs=15,callbacks=callbacks_list)"
   ]
  },
  {
   "cell_type": "code",
   "execution_count": 74,
   "metadata": {},
   "outputs": [],
   "source": [
    "best_model_s = load_model('epochs:011-val_acc:0.930.hdf6')"
   ]
  },
  {
   "cell_type": "code",
   "execution_count": 75,
   "metadata": {},
   "outputs": [],
   "source": [
    "# Activities are the class labels\n",
    "# It is a 6 class classification\n",
    "ACTIVITIES = {\n",
    "    0: 'SITTING',\n",
    "    1: 'STANDING',\n",
    "    2: 'LAYING',\n",
    "}\n",
    "\n",
    "# Utility function to print the confusion matrix\n",
    "def confusion_matrix(Y_true, Y_pred):\n",
    "    Y_true = pd.Series([ACTIVITIES[y] for y in np.argmax(Y_true, axis=1)])\n",
    "    Y_pred = pd.Series([ACTIVITIES[y] for y in np.argmax(Y_pred, axis=1)])\n",
    "\n",
    "    return pd.crosstab(Y_true, Y_pred, rownames=['True'], colnames=['Pred'])"
   ]
  },
  {
   "cell_type": "code",
   "execution_count": 76,
   "metadata": {},
   "outputs": [
    {
     "name": "stdout",
     "output_type": "stream",
     "text": [
      "Pred      LAYING  SITTING  STANDING\n",
      "True                               \n",
      "LAYING       512        0        25\n",
      "SITTING        0      389       102\n",
      "STANDING       0       27       501\n"
     ]
    }
   ],
   "source": [
    "print(confusion_matrix(Y_static_test, model.predict(X_static_test)))"
   ]
  },
  {
   "cell_type": "code",
   "execution_count": 78,
   "metadata": {},
   "outputs": [
    {
     "name": "stdout",
     "output_type": "stream",
     "text": [
      "1556/1556 [==============================] - 2s 1ms/step\n"
     ]
    }
   ],
   "source": [
    "score = best_model_s.evaluate(X_static_test, Y_static_test)"
   ]
  },
  {
   "cell_type": "code",
   "execution_count": 79,
   "metadata": {},
   "outputs": [
    {
     "data": {
      "text/plain": [
       "[0.39326874985088, 0.9299485683441162]"
      ]
     },
     "execution_count": 79,
     "metadata": {},
     "output_type": "execute_result"
    }
   ],
   "source": [
    "score"
   ]
  },
  {
   "cell_type": "markdown",
   "metadata": {},
   "source": [
    "### Final Pipelining"
   ]
  },
  {
   "cell_type": "code",
   "execution_count": 80,
   "metadata": {},
   "outputs": [],
   "source": [
    "# Raw data signals\n",
    "# Signals are from Accelerometer and Gyroscope\n",
    "# The signals are in x,y,z directions\n",
    "# Sensor signals are filtered to have only body acceleration\n",
    "# excluding the acceleration due to gravity\n",
    "# Triaxial acceleration from the accelerometer is total acceleration\n",
    "SIGNALS = [\n",
    "    \"body_acc_x\",\n",
    "    \"body_acc_y\",\n",
    "    \"body_acc_z\",\n",
    "    \"body_gyro_x\",\n",
    "    \"body_gyro_y\",\n",
    "    \"body_gyro_z\",\n",
    "    \"total_acc_x\",\n",
    "    \"total_acc_y\",\n",
    "    \"total_acc_z\"\n",
    "]\n",
    "# Utility function to read the data from csv file\n",
    "def _read_csv(filename):\n",
    "    return pd.read_csv(filename, delim_whitespace=True, header=None)\n",
    "\n",
    "# Utility function to load the load\n",
    "def load_signals(subset):\n",
    "    signals_data = []\n",
    "\n",
    "    for signal in SIGNALS:\n",
    "        filename = f'UCI_HAR_Dataset/{subset}/Inertial Signals/{signal}_{subset}.txt'\n",
    "        signals_data.append(\n",
    "            _read_csv(filename).as_matrix()\n",
    "        ) \n",
    "\n",
    "    # Transpose is used to change the dimensionality of the output,\n",
    "    # aggregating the signals by combination of sample/timestep.\n",
    "    # Resultant shape is (7352 train/2947 test samples, 128 timesteps, 9 signals)\n",
    "    return np.transpose(signals_data, (1, 2, 0))\n",
    "\n",
    "def load_y(subset):\n",
    "    \"\"\"\n",
    "    The objective that we are trying to predict is a integer, from 1 to 6,\n",
    "    that represents a human activity. We return a binary representation of \n",
    "    every sample objective as a 6 bits vector using One Hot Encoding\n",
    "    (https://pandas.pydata.org/pandas-docs/stable/generated/pandas.get_dummies.html)\n",
    "    \"\"\"\n",
    "    filename = f'UCI_HAR_Dataset/{subset}/y_{subset}.txt'\n",
    "    y = _read_csv(filename)[0]\n",
    "\n",
    "    return y\n",
    "def load_data():\n",
    "    \"\"\"\n",
    "    Obtain the dataset from multiple files.\n",
    "    Returns: X_train, X_test, y_train, y_test\n",
    "    \"\"\"\n",
    "    X_train, X_test = load_signals('train'), load_signals('test')\n",
    "    y_train, y_test = load_y('train'), load_y('test')\n",
    "\n",
    "    return X_train, X_test, y_train, y_test"
   ]
  },
  {
   "cell_type": "code",
   "execution_count": 81,
   "metadata": {},
   "outputs": [
    {
     "name": "stderr",
     "output_type": "stream",
     "text": [
      "/Users/bhawesh/anaconda3/lib/python3.7/site-packages/ipykernel_launcher.py:29: FutureWarning: Method .as_matrix will be removed in a future version. Use .values instead.\n"
     ]
    }
   ],
   "source": [
    "X_train, X_test, Y_train, Y_test = load_data()"
   ]
  },
  {
   "cell_type": "code",
   "execution_count": 82,
   "metadata": {},
   "outputs": [
    {
     "data": {
      "text/plain": [
       "7352"
      ]
     },
     "execution_count": 82,
     "metadata": {},
     "output_type": "execute_result"
    }
   ],
   "source": [
    "len(Y_train)"
   ]
  },
  {
   "cell_type": "code",
   "execution_count": 83,
   "metadata": {},
   "outputs": [],
   "source": [
    "Y_pred_train=best_model_division.predict(X_train)\n",
    "Y_pred_test=best_model_division.predict(X_test)"
   ]
  },
  {
   "cell_type": "code",
   "execution_count": 84,
   "metadata": {},
   "outputs": [],
   "source": [
    "Y_pred_train =  np.argmax(Y_pred_train, axis=1)\n",
    "Y_pred_test =  np.argmax(Y_pred_test, axis=1)"
   ]
  },
  {
   "cell_type": "code",
   "execution_count": 85,
   "metadata": {},
   "outputs": [],
   "source": [
    "X_static_tr=X_train[Y_pred_train==1]\n",
    "X_dynamic_tr=X_train[Y_pred_train==0]\n",
    "X_static_test=X_test[Y_pred_test==1]\n",
    "X_dynamic_test=X_test[Y_pred_test==0]"
   ]
  },
  {
   "cell_type": "code",
   "execution_count": 86,
   "metadata": {},
   "outputs": [],
   "source": [
    "Y_pred_static_tr=best_model_s.predict(X_static_tr)\n",
    "Y_pred_static_test=best_model_s.predict(X_static_test)"
   ]
  },
  {
   "cell_type": "code",
   "execution_count": 88,
   "metadata": {},
   "outputs": [],
   "source": [
    "Y_pred_dynamic_tr=best_model_d.predict(X_dynamic_tr)\n",
    "Y_pred_dynamic_test=best_model_d.predict(X_dynamic_test)"
   ]
  },
  {
   "cell_type": "code",
   "execution_count": 89,
   "metadata": {},
   "outputs": [],
   "source": [
    "Y_pred_dynamic_tr=np.argmax(Y_pred_dynamic_tr, axis=1)\n",
    "Y_pred_dynamic_test=np.argmax(Y_pred_dynamic_test, axis=1)\n",
    "Y_pred_static_tr=np.argmax(Y_pred_static_tr, axis=1)\n",
    "Y_pred_static_test=np.argmax(Y_pred_static_test, axis=1)"
   ]
  },
  {
   "cell_type": "code",
   "execution_count": 90,
   "metadata": {},
   "outputs": [],
   "source": [
    "Y_pred_static_tr=Y_pred_static_tr+4\n",
    "Y_pred_static_test=Y_pred_static_test+4"
   ]
  },
  {
   "cell_type": "code",
   "execution_count": 91,
   "metadata": {},
   "outputs": [],
   "source": [
    "Y_pred_dynamic_tr=Y_pred_dynamic_tr+1\n",
    "Y_pred_dynamic_test=Y_pred_dynamic_test+1"
   ]
  },
  {
   "cell_type": "code",
   "execution_count": 92,
   "metadata": {},
   "outputs": [],
   "source": [
    "k,j = 0,0 \n",
    "final_pred_tr = []\n",
    "for i in Y_pred_train:\n",
    "    if i == 1:\n",
    "        final_pred_tr.append(Y_pred_static_tr[k])\n",
    "        k = k + 1\n",
    "    else:\n",
    "        final_pred_tr.append(Y_pred_dynamic_tr[j])\n",
    "        j = j + 1 "
   ]
  },
  {
   "cell_type": "code",
   "execution_count": 93,
   "metadata": {},
   "outputs": [],
   "source": [
    "k,j = 0,0 \n",
    "final_pred_test = []\n",
    "for i in Y_pred_test:\n",
    "    if i == 1:\n",
    "        final_pred_test.append(Y_pred_static_test[k])\n",
    "        k = k + 1\n",
    "    else:\n",
    "        final_pred_test.append(Y_pred_dynamic_test[j])\n",
    "        j = j + 1 "
   ]
  },
  {
   "cell_type": "code",
   "execution_count": 94,
   "metadata": {},
   "outputs": [
    {
     "name": "stdout",
     "output_type": "stream",
     "text": [
      "Accuracy of train data 0.9944232861806311\n",
      "Accuracy of validation data 0.9463861554122837\n"
     ]
    }
   ],
   "source": [
    "##accuracy of train and test\n",
    "from sklearn.metrics import accuracy_score\n",
    "print('Accuracy of train data',accuracy_score(Y_train,final_pred_tr))\n",
    "print('Accuracy of validation data',accuracy_score(Y_test,final_pred_test))"
   ]
  },
  {
   "cell_type": "code",
   "execution_count": null,
   "metadata": {},
   "outputs": [],
   "source": []
  }
 ],
 "metadata": {
  "kernelspec": {
   "display_name": "Python 3",
   "language": "python",
   "name": "python3"
  },
  "language_info": {
   "codemirror_mode": {
    "name": "ipython",
    "version": 3
   },
   "file_extension": ".py",
   "mimetype": "text/x-python",
   "name": "python",
   "nbconvert_exporter": "python",
   "pygments_lexer": "ipython3",
   "version": "3.7.1"
  }
 },
 "nbformat": 4,
 "nbformat_minor": 2
}
